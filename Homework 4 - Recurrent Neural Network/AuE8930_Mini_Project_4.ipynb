{
  "cells": [
    {
      "cell_type": "markdown",
      "metadata": {
        "id": "Jh5-KMT8f52R"
      },
      "source": [
        "# Mini-Project 4\n",
        "\n",
        "Welcome to your fourth Mini Project! You will build an RNN model to classify text and an LSTM model for anomaly detection (also outlier detection) on the temperature sensor data. **Please complete your assignment in this Jupyter Notebook.**\n",
        "\n",
        "---\n",
        "\n",
        "**Requirements**: \n",
        "- TensorFlow 2.x is allowed to implement your models.\n",
        "- Your code should follow [PEP 8](https://www.python.org/dev/peps/pep-0008/) with necessary comments."
      ]
    },
    {
      "cell_type": "markdown",
      "metadata": {
        "id": "Obgo-lZd5Lzi"
      },
      "source": [
        "## Task 1: Text Classification"
      ]
    },
    {
      "cell_type": "markdown",
      "metadata": {
        "id": "mfrEGE2kiiqv"
      },
      "source": [
        "This task aims to train a sentiment analysis model to classify given sentences as **positive or negative**, based on the Recurrent Neural Network.\n",
        "\n",
        "---\n",
        "\n",
        "**Tasks**\n",
        "\n",
        "1. Load data\n",
        "    - Load the training data and the test data.\n",
        "    - Extract labels and texts which are seperated by the string of `\" +++$+++ \"`.\n",
        "    - Eliminate index information in the test data so that you can get pure sentences.\n",
        "    - Print out the first 10 examples of your training set and test set.\n",
        "2. Preprocess data\n",
        "    - Tokenize the data and convert the text to sequences.\n",
        "    - Add padding to ensure that all the sequences have the same shape.\n",
        "    - **Hint**: click [here](https://www.kdnuggets.com/2020/03/tensorflow-keras-tokenization-text-data-prep.html) for more information.\n",
        "3. Build RNN model\n",
        "    - Build a RNN based on TensorFlow 2.x.\n",
        "    - Visualize the model using [tf.keras.utils.plot_model](https://www.tensorflow.org/api_docs/python/tf/keras/utils/plot_model).\n",
        "4. Train model\n",
        "    - Initialize hyperparameters.\n",
        "    - Train your model.\n",
        "    - Visualize the performance including training loss, training accuracy, validation loss, and validation accuracy.\n",
        "5. Predict\n",
        "    - Test your model on the test data.\n",
        "    - Save the predicted results (labels and texts) in a CSV file and submit it to Canvas.\n"
      ]
    },
    {
      "cell_type": "code",
      "source": [
        "import os\n",
        "from google.colab import drive\n",
        "drive.mount('/content/drive')\n",
        "currentpath=os.getcwd()\n",
        "path_task1_train=currentpath+\"/drive/MyDrive/Colab Notebooks/task1_training_data.txt\"\n",
        "path_task1_test=currentpath+\"/drive/MyDrive/Colab Notebooks/task1_test_data.txt\"\n",
        "path_task2=currentpath+\"/drive/MyDrive/Colab Notebooks/ambient_temperature_system_failure.csv\""
      ],
      "metadata": {
        "colab": {
          "base_uri": "https://localhost:8080/"
        },
        "id": "BPAr3Ux1N2T0",
        "outputId": "d89c7f8d-9683-4e90-8f7b-eaac0c751321"
      },
      "execution_count": 82,
      "outputs": [
        {
          "output_type": "stream",
          "name": "stdout",
          "text": [
            "Drive already mounted at /content/drive; to attempt to forcibly remount, call drive.mount(\"/content/drive\", force_remount=True).\n"
          ]
        }
      ]
    },
    {
      "cell_type": "code",
      "execution_count": 83,
      "metadata": {
        "id": "7zYDENWa4JZV"
      },
      "outputs": [],
      "source": [
        "# Write your code here\n",
        "\n",
        "import warnings\n",
        "warnings.filterwarnings(\"ignore\", message=r\"Passing\", category=FutureWarning)\n",
        "import os \n",
        "os.environ['TF_CPP_MIN_LOG_LEVEL']='2'\n",
        "import numpy as np\n",
        "import tensorflow as tf\n",
        "from tensorflow import keras\n",
        "from tensorflow.keras import layers\n"
      ]
    },
    {
      "cell_type": "code",
      "execution_count": 84,
      "metadata": {
        "colab": {
          "base_uri": "https://localhost:8080/"
        },
        "id": "v_uRm7E0LCdk",
        "outputId": "2c212beb-2533-4664-f7a1-7ef65cff36c4"
      },
      "outputs": [
        {
          "output_type": "stream",
          "name": "stdout",
          "text": [
            "Training Data\n",
            "  are wtf ... awww thanks !\n",
            "  leavingg to wait for kaysie to arrive myspacin itt for now ilmmthek .!\n",
            "  i wish i could go and see duffy when she comes to mamaia romania .\n",
            "  i know eep ! i can ' t wait for one more day ....\n",
            "  so scared and feeling sick . fuck ! hope someone at hr help ... wish it would be wendita or karen .\n",
            "  my b day was thurs . i wanted 2 do 5 this weekend for my b day but i guess close enough next weekend . going alone\n",
            "  e3 is in the trending topics only just noticed ive been tweeting on my iphone until now\n",
            "  where did you get him from i know someone who would love that !\n",
            "  dam just got buzzed by another huge fly ! this time it landed on my head ... not impressed\n",
            "  tomorrowwwwwwwww !!! you ' ll love tomorrow ' s news !\n",
            "\n",
            "\n",
            "Testing Data\n",
            "  nadal pulled out of wimbledon\n",
            "  yo , r u work ? at the apple store now . i need ur advice\n",
            "  fuck you rock band 2 and your fucking up freezepop songs !!\n",
            "  told u\n",
            "  has just joined twitter and has no one to follow\n",
            "  hey type your question here jonasliveonfb nick ur my fav . plzzzzzzzzz marry me i loooooooovvvvvvvvvve u\n",
            "  probably delaware skate park in ohio , but i jacked up my knee so i probably wont skate\n",
            "  seriously , i understand the term missing plane but not 1 single tiny piece of wreck ?? not even dust ? nothing ? nada ??\n",
            "  ay brian had to check u real quick , i its been a hectic week . hows everything\n",
            "  well it could have been a small one ... or just passing gas .\n"
          ]
        }
      ],
      "source": [
        "# Write your code here\n",
        "\n",
        "#1.Load data\n",
        "\n",
        "train_data=open(path_task1_train,\"r\")\n",
        "test_data=open(path_task1_test,\"r\")\n",
        "train_text=[]\n",
        "train_grnd=[]\n",
        "test_text=[]\n",
        "Line2=test_data.readline()\n",
        "\n",
        "for i in range(200000): \n",
        "    Line=train_data.readline()\n",
        "    Line=Line.strip(\"','\\n'\")\n",
        "    train_grnd.append(int(Line.split(\"+++$+++\",1)[0]))\n",
        "    train_text.append(Line.split(\"+++$+++\",1)[1])\n",
        "    \n",
        "x_train=train_text[:180000]\n",
        "y_train=train_grnd[:180000]\n",
        "\n",
        "x_test=train_text[180000:200000]\n",
        "y_test=train_grnd[180000:200000]\n",
        "\n",
        "print(\"Training Data\")\n",
        "for i in range(10):\n",
        "    print(\"\",x_train[i])\n",
        "print(\"\\n\")\n",
        "print(\"Testing Data\")\n",
        "for i in range(10):\n",
        "    print(\"\",x_test[i])\n",
        "    \n",
        "  "
      ]
    },
    {
      "cell_type": "code",
      "execution_count": 85,
      "metadata": {
        "colab": {
          "base_uri": "https://localhost:8080/"
        },
        "id": "7Qdo2rR_LCdl",
        "outputId": "a8c6cbf8-4fd1-41df-e151-e7324d09d332"
      },
      "outputs": [
        {
          "output_type": "stream",
          "name": "stdout",
          "text": [
            "Word index:\n",
            " [('<UNK>', 1), ('i', 2), ('to', 3), ('the', 4), ('a', 5), ('my', 6), ('it', 7), ('and', 8), ('you', 9), ('is', 10), ('for', 11), ('in', 12), ('s', 13), ('of', 14), ('t', 15), ('that', 16), ('on', 17), ('me', 18), ('so', 19), ('have', 20)]\n",
            "\n",
            "Training sequences:\n",
            " [39, 1, 460, 82]\n",
            "\n",
            "Padded training sequences:\n",
            " [ 39   1 460  82   0   0   0   0   0   0   0   0   0   0   0   0   0   0\n",
            "   0   0   0   0   0   0   0   0   0   0   0   0   0   0   0   0   0   0\n",
            "   0]\n",
            "\n",
            "Training sequences:\n",
            " [1, 3, 142, 11, 1, 3, 1, 1, 1, 11, 29, 1]\n",
            "\n",
            "Padded training sequences:\n",
            " [  1   3 142  11   1   3   1   1   1  11  29   1   0   0   0   0   0   0\n",
            "   0   0   0   0   0   0   0   0   0   0   0   0   0   0   0   0   0   0\n",
            "   0]\n",
            "\n",
            "Training sequences:\n",
            " [2, 116, 2, 144, 41, 8, 67, 1, 86, 109, 1, 3, 1, 1]\n",
            "\n",
            "Padded training sequences:\n",
            " [  2 116   2 144  41   8  67   1  86 109   1   3   1   1   0   0   0   0\n",
            "   0   0   0   0   0   0   0   0   0   0   0   0   0   0   0   0   0   0\n",
            "   0]\n",
            "\n",
            "Padded training shape: (180000, 37)\n",
            "Training sequences data type: <class 'list'>\n",
            "Padded Training sequences data type: <class 'numpy.ndarray'>\n"
          ]
        }
      ],
      "source": [
        "# 2. Preprocess data\n",
        "\n",
        "from tensorflow.keras.preprocessing.text import Tokenizer\n",
        "from tensorflow.keras.preprocessing.sequence import pad_sequences\n",
        "from itertools import islice\n",
        "\n",
        "def take(n,iterable):\n",
        "    return list(islice(iterable,n))\n",
        "\n",
        "num_words = 700\n",
        "oov_token = '<UNK>'\n",
        "pad_type = 'post'\n",
        "trunc_type = 'post'\n",
        "\n",
        "# Tokenize our training data\n",
        "tokenizer = Tokenizer(num_words=num_words, \n",
        "                      oov_token=oov_token,\n",
        "                      filters='!\"#$%&()*+,-./:;<=>[0-9]?@[\\\\]^_`{|}~\\t\\n\\'',\n",
        "                      lower=True,\n",
        "                     )\n",
        "\n",
        "tokenizer.fit_on_texts(x_train)\n",
        "\n",
        "# Get our training data word index\n",
        "word_index = tokenizer.word_index\n",
        "\n",
        "# Encode training data sentences into sequences\n",
        "train_sequences = tokenizer.texts_to_sequences(x_train)\n",
        "\n",
        "# Get max training sequence length\n",
        "maxlen = max([len(x) for x in train_sequences])\n",
        "\n",
        "# Pad the training sequences\n",
        "train_padded = pad_sequences(train_sequences, padding=pad_type, truncating=trunc_type, maxlen=maxlen)\n",
        "\n",
        "# Output the results of our work\n",
        "n_items=take(20,word_index.items())\n",
        "print(\"Word index:\\n\",n_items )\n",
        "for i in range(3):\n",
        "    print(\"\\nTraining sequences:\\n\", train_sequences[i])\n",
        "    print(\"\\nPadded training sequences:\\n\", train_padded[i])\n",
        "print(\"\\nPadded training shape:\", train_padded.shape)\n",
        "print(\"Training sequences data type:\", type(train_sequences))\n",
        "print(\"Padded Training sequences data type:\", type(train_padded))\n"
      ]
    },
    {
      "cell_type": "code",
      "execution_count": 90,
      "metadata": {
        "colab": {
          "base_uri": "https://localhost:8080/"
        },
        "id": "TRKUM9umLCdm",
        "outputId": "2f4f2cae-6778-49d8-9604-8f4d53d44b79"
      },
      "outputs": [
        {
          "output_type": "stream",
          "name": "stdout",
          "text": [
            "Testing sequences:\n",
            " [1, 1, 36, 14, 1]\n",
            "\n",
            "Padded testing sequences:\n",
            " [ 1  1 36 14  1  0  0  0  0  0  0  0  0  0  0  0  0  0  0  0  0  0  0  0\n",
            "  0  0  0  0  0  0  0  0  0  0  0  0  0]\n",
            "Testing sequences:\n",
            " [1, 339, 56, 49, 26, 4, 1, 667, 29, 2, 92, 215, 1]\n",
            "\n",
            "Padded testing sequences:\n",
            " [  1 339  56  49  26   4   1 667  29   2  92 215   1   0   0   0   0   0\n",
            "   0   0   0   0   0   0   0   0   0   0   0   0   0   0   0   0   0   0\n",
            "   0]\n",
            "Testing sequences:\n",
            " [507, 9, 608, 1, 58, 8, 44, 635, 33, 1, 633]\n",
            "\n",
            "Padded testing sequences:\n",
            " [507   9 608   1  58   8  44 635  33   1 633   0   0   0   0   0   0   0\n",
            "   0   0   0   0   0   0   0   0   0   0   0   0   0   0   0   0   0   0\n",
            "   0]\n",
            "\n",
            "Padded testing shape: (20000, 37)\n"
          ]
        }
      ],
      "source": [
        "test_sequences = tokenizer.texts_to_sequences(x_test)\n",
        "test_padded = pad_sequences(test_sequences, padding=pad_type, truncating=trunc_type, maxlen=maxlen)\n",
        "for i in range(3):\n",
        "    print(\"Testing sequences:\\n\", test_sequences[i])\n",
        "    print(\"\\nPadded testing sequences:\\n\", test_padded[i])\n",
        "print(\"\\nPadded testing shape:\",test_padded.shape)"
      ]
    },
    {
      "cell_type": "code",
      "source": [
        "train_padded.shape"
      ],
      "metadata": {
        "colab": {
          "base_uri": "https://localhost:8080/"
        },
        "id": "po-9BWrGU-Mt",
        "outputId": "6c191278-c276-4e24-bfa0-4364230be7b7"
      },
      "execution_count": 91,
      "outputs": [
        {
          "output_type": "execute_result",
          "data": {
            "text/plain": [
              "(180000, 37)"
            ]
          },
          "metadata": {},
          "execution_count": 91
        }
      ]
    },
    {
      "cell_type": "code",
      "source": [
        "test_padded.shape"
      ],
      "metadata": {
        "colab": {
          "base_uri": "https://localhost:8080/"
        },
        "id": "SSFD8bH1V4Bs",
        "outputId": "6eac240e-fd0d-4f48-f123-7f01bec76bac"
      },
      "execution_count": 92,
      "outputs": [
        {
          "output_type": "execute_result",
          "data": {
            "text/plain": [
              "(20000, 37)"
            ]
          },
          "metadata": {},
          "execution_count": 92
        }
      ]
    },
    {
      "cell_type": "code",
      "execution_count": 89,
      "metadata": {
        "colab": {
          "base_uri": "https://localhost:8080/"
        },
        "id": "hIHn7DM0LCdn",
        "outputId": "688f5101-ec70-4a8e-f422-43208afcbaa3"
      },
      "outputs": [
        {
          "output_type": "stream",
          "name": "stdout",
          "text": [
            " nadal pulled out of wimbledon -> [ 1  1 36 14  1]\n",
            " yo , r u work ? at the apple store now . i need ur advice -> [  1 339  56  49  26]\n"
          ]
        }
      ],
      "source": [
        "#Visualize data after padding\n",
        "\n",
        "for x, y in zip(x_test[0:2], test_padded[0:2]):\n",
        "      print('{} -> {}'.format(x, y))\n"
      ]
    },
    {
      "cell_type": "code",
      "execution_count": 93,
      "metadata": {
        "colab": {
          "base_uri": "https://localhost:8080/"
        },
        "id": "mZhawjTPLCdn",
        "outputId": "b576d0cb-e900-4bf7-ba50-7d739251e1e9"
      },
      "outputs": [
        {
          "output_type": "stream",
          "name": "stdout",
          "text": [
            "Model: \"sequential_22\"\n",
            "_________________________________________________________________\n",
            " Layer (type)                Output Shape              Param #   \n",
            "=================================================================\n",
            " embedding_13 (Embedding)    (None, 37, 128)           89600     \n",
            "                                                                 \n",
            " dropout_36 (Dropout)        (None, 37, 128)           0         \n",
            "                                                                 \n",
            " gru_13 (GRU)                (None, 37, 128)           99072     \n",
            "                                                                 \n",
            " dropout_37 (Dropout)        (None, 37, 128)           0         \n",
            "                                                                 \n",
            " simple_rnn_13 (SimpleRNN)   (None, 64)                12352     \n",
            "                                                                 \n",
            " dropout_38 (Dropout)        (None, 64)                0         \n",
            "                                                                 \n",
            " dense_12 (Dense)            (None, 1)                 65        \n",
            "                                                                 \n",
            "=================================================================\n",
            "Total params: 201,089\n",
            "Trainable params: 201,089\n",
            "Non-trainable params: 0\n",
            "_________________________________________________________________\n"
          ]
        }
      ],
      "source": [
        "#3. Build RNN model\n",
        "import tensorflow as tf\n",
        "from tensorflow import keras\n",
        "from tensorflow.keras import layers, regularizers\n",
        "\n",
        "model = keras.Sequential()\n",
        "model.add(layers.Embedding(700,128,input_length=37))\n",
        "model.add(layers.Dropout(0.2))\n",
        "model.add(layers.GRU(128,activation=\"tanh\", return_sequences=True,kernel_regularizer=keras.regularizers.l2(0.001)))\n",
        "model.add(layers.Dropout(0.2))\n",
        "model.add(layers.SimpleRNN(64,kernel_regularizer=keras.regularizers.l2(0.001)))\n",
        "model.add(layers.Dropout(0.2))\n",
        "model.add(layers.Dense(1,activation='sigmoid',kernel_regularizer=keras.regularizers.l2(0.001)))\n",
        "model.summary()"
      ]
    },
    {
      "cell_type": "code",
      "execution_count": 94,
      "metadata": {
        "colab": {
          "base_uri": "https://localhost:8080/",
          "height": 758
        },
        "id": "Ndr6JPMnLCdo",
        "outputId": "5fd5b490-73d9-4187-8aa3-cb6f86a3ae6d"
      },
      "outputs": [
        {
          "output_type": "execute_result",
          "data": {
            "text/plain": [
              "<IPython.core.display.Image object>"
            ],
            "image/png": "[encoded data removed]"
          },
          "metadata": {},
          "execution_count": 94
        }
      ],
      "source": [
        "#Visualize model \n",
        "\n",
        "\n",
        "tf.keras.utils.plot_model(\n",
        "    model, to_file='model1.png', show_shapes=False, \n",
        "    show_layer_names=True, rankdir='TB')"
      ]
    },
    {
      "cell_type": "code",
      "execution_count": 95,
      "metadata": {
        "colab": {
          "base_uri": "https://localhost:8080/"
        },
        "id": "R-C1WNrELCdo",
        "outputId": "a9743399-396a-43dd-9380-b33d1e6f0bd3"
      },
      "outputs": [
        {
          "metadata": {
            "tags": null
          },
          "name": "stdout",
          "output_type": "stream",
          "text": [
            "Epoch 1/20\n"
          ]
        },
        {
          "metadata": {
            "tags": null
          },
          "name": "stderr",
          "output_type": "stream",
          "text": [
            "/usr/local/lib/python3.7/dist-packages/tensorflow/python/util/dispatch.py:1082: UserWarning: \"`binary_crossentropy` received `from_logits=True`, but the `output` argument was produced by a sigmoid or softmax activation and thus does not represent logits. Was this intended?\"\n",
            "  return dispatch_target(*args, **kwargs)\n"
          ]
        },
        {
          "metadata": {
            "tags": null
          },
          "name": "stdout",
          "output_type": "stream",
          "text": [
            "1000/1000 [==============================] - 52s 50ms/step - loss: 0.7466 - accuracy: 0.6926 - val_loss: 0.6369 - val_accuracy: 0.7509\n",
            "Epoch 2/20\n",
            "1000/1000 [==============================] - 49s 49ms/step - loss: 0.6276 - accuracy: 0.7439 - val_loss: 0.6021 - val_accuracy: 0.7535\n",
            "Epoch 3/20\n",
            "1000/1000 [==============================] - 49s 49ms/step - loss: 0.5993 - accuracy: 0.7483 - val_loss: 0.5832 - val_accuracy: 0.7554\n",
            "Epoch 4/20\n",
            "1000/1000 [==============================] - 49s 49ms/step - loss: 0.5772 - accuracy: 0.7521 - val_loss: 0.5684 - val_accuracy: 0.7556\n",
            "Epoch 5/20\n",
            "1000/1000 [==============================] - 49s 49ms/step - loss: 0.5631 - accuracy: 0.7531 - val_loss: 0.5570 - val_accuracy: 0.7545\n",
            "Epoch 6/20\n",
            "1000/1000 [==============================] - 49s 49ms/step - loss: 0.5498 - accuracy: 0.7557 - val_loss: 0.5454 - val_accuracy: 0.7592\n",
            "Epoch 7/20\n",
            "1000/1000 [==============================] - 49s 49ms/step - loss: 0.5378 - accuracy: 0.7588 - val_loss: 0.5349 - val_accuracy: 0.7591\n",
            "Epoch 8/20\n",
            "1000/1000 [==============================] - 49s 49ms/step - loss: 0.5300 - accuracy: 0.7587 - val_loss: 0.5289 - val_accuracy: 0.7593\n",
            "Epoch 9/20\n",
            "1000/1000 [==============================] - 49s 49ms/step - loss: 0.5223 - accuracy: 0.7602 - val_loss: 0.5240 - val_accuracy: 0.7559\n",
            "Epoch 10/20\n",
            "1000/1000 [==============================] - 49s 49ms/step - loss: 0.5161 - accuracy: 0.7614 - val_loss: 0.5174 - val_accuracy: 0.7578\n",
            "Epoch 11/20\n",
            "1000/1000 [==============================] - 49s 49ms/step - loss: 0.5108 - accuracy: 0.7620 - val_loss: 0.5149 - val_accuracy: 0.7565\n",
            "Epoch 12/20\n",
            "1000/1000 [==============================] - 50s 50ms/step - loss: 0.5065 - accuracy: 0.7628 - val_loss: 0.5088 - val_accuracy: 0.7602\n",
            "Epoch 13/20\n",
            "1000/1000 [==============================] - 49s 49ms/step - loss: 0.5028 - accuracy: 0.7644 - val_loss: 0.5052 - val_accuracy: 0.7620\n",
            "Epoch 14/20\n",
            "1000/1000 [==============================] - 49s 49ms/step - loss: 0.4987 - accuracy: 0.7651 - val_loss: 0.5121 - val_accuracy: 0.7564\n",
            "Epoch 15/20\n",
            "1000/1000 [==============================] - 49s 49ms/step - loss: 0.4959 - accuracy: 0.7662 - val_loss: 0.5001 - val_accuracy: 0.7602\n",
            "Epoch 16/20\n",
            "1000/1000 [==============================] - 49s 49ms/step - loss: 0.4941 - accuracy: 0.7656 - val_loss: 0.5022 - val_accuracy: 0.7607\n",
            "Epoch 17/20\n",
            "1000/1000 [==============================] - 49s 49ms/step - loss: 0.4911 - accuracy: 0.7664 - val_loss: 0.4959 - val_accuracy: 0.7632\n",
            "Epoch 18/20\n",
            "1000/1000 [==============================] - 49s 49ms/step - loss: 0.4891 - accuracy: 0.7683 - val_loss: 0.4951 - val_accuracy: 0.7641\n",
            "Epoch 19/20\n",
            "1000/1000 [==============================] - 49s 49ms/step - loss: 0.4869 - accuracy: 0.7686 - val_loss: 0.4927 - val_accuracy: 0.7642\n",
            "Epoch 20/20\n",
            "1000/1000 [==============================] - 49s 49ms/step - loss: 0.4850 - accuracy: 0.7694 - val_loss: 0.4931 - val_accuracy: 0.7656\n"
          ]
        }
      ],
      "source": [
        "#4. Train the model\n",
        "model.compile(loss=keras.losses.BinaryCrossentropy(from_logits=True),\n",
        "              optimizer = keras.optimizers.Adam(learning_rate=0.0001),\n",
        "              metrics=[\"accuracy\"],)\n",
        "\n",
        "train_padded=np.array(train_padded)\n",
        "test_padded=np.array(test_padded)\n",
        "y_train=np.array(y_train)\n",
        "y_test=np.array(y_test)\n",
        "\n",
        "history = model.fit(train_padded, y_train, validation_data=(test_padded,y_test),batch_size=180, shuffle=True,epochs=20,verbose=1)"
      ]
    },
    {
      "cell_type": "code",
      "execution_count": 96,
      "metadata": {
        "colab": {
          "base_uri": "https://localhost:8080/",
          "height": 541
        },
        "id": "UFHkgsbZLCdo",
        "outputId": "7fc627ac-64d4-440a-fd93-4e2a6a81c0fa"
      },
      "outputs": [
        {
          "output_type": "display_data",
          "data": {
            "text/plain": [
              "<Figure size 432x288 with 1 Axes>"
            ],
            "image/png": "[encoded data removed]"
          },
          "metadata": {
            "needs_background": "light"
          }
        },
        {
          "output_type": "display_data",
          "data": {
            "text/plain": [
              "<Figure size 432x288 with 1 Axes>"
            ],
            "image/png": "[encoded data removed]"
          },
          "metadata": {
            "needs_background": "light"
          }
        }
      ],
      "source": [
        "# TODO: visualize the training history including accuracy curves and loss curves of your optimal model\n",
        "import matplotlib.pyplot as plt\n",
        "\n",
        "plt.plot(history.history['accuracy'], label='Train_accuracy')\n",
        "plt.plot(history.history['val_accuracy'], label='validation_accuracy')\n",
        "plt.xlabel('Epoch')\n",
        "plt.ylabel('Accuracy')\n",
        "\n",
        "plt.legend(loc='upper right')\n",
        "plt.show()\n",
        "\n",
        "plt.plot(history.history['loss'], label='Train_loss')\n",
        "plt.plot(history.history['val_loss'], label='validation_loss')\n",
        "plt.xlabel('Epoch')\n",
        "plt.ylabel('Loss')\n",
        "\n",
        "plt.legend(loc='upper right')\n",
        "plt.show()\n"
      ]
    },
    {
      "cell_type": "code",
      "execution_count": 112,
      "metadata": {
        "id": "CzyZRb5xLCdp",
        "colab": {
          "base_uri": "https://localhost:8080/"
        },
        "outputId": "c144d3f7-4cf6-4919-8af4-f8f156cd4016"
      },
      "outputs": [
        {
          "output_type": "stream",
          "name": "stdout",
          "text": [
            "Testing sequences:\n",
            " [6, 510, 676, 196, 349, 40, 565, 88, 676, 7]\n",
            "\n",
            "Padded testing sequences:\n",
            " [  6 510 676 196 349  40 565  88 676   7   0   0   0   0   0   0   0   0\n",
            "   0   0   0   0   0   0   0   0   0   0   0   0   0   0   0   0   0   0\n",
            "   0]\n",
            "Testing sequences:\n",
            " [226, 95, 34, 1, 236, 14, 1, 1, 208, 62, 1, 25, 1, 36, 14, 150, 1, 4, 1, 14, 1, 61, 1, 537]\n",
            "\n",
            "Padded testing sequences:\n",
            " [226  95  34   1 236  14   1   1 208  62   1  25   1  36  14 150   1   4\n",
            "   1  14   1  61   1 537   0   0   0   0   0   0   0   0   0   0   0   0\n",
            "   0]\n",
            "Testing sequences:\n",
            " [397, 621, 71, 96, 19, 397]\n",
            "\n",
            "Padded testing sequences:\n",
            " [397 621  71  96  19 397   0   0   0   0   0   0   0   0   0   0   0   0\n",
            "   0   0   0   0   0   0   0   0   0   0   0   0   0   0   0   0   0   0\n",
            "   0]\n",
            "\n",
            "Padded testing shape: (200000, 37)\n"
          ]
        }
      ],
      "source": [
        "# Preprocessing of text data\n",
        "test_data=open(path_task1_test,\"r\")\n",
        "Line2=test_data.readline()\n",
        "\n",
        "test_text=[]\n",
        "for i in range(200000): \n",
        "    Line2=test_data.readline() \n",
        "    Line2=Line2.strip(\"','\\n'\")\n",
        "    test_text.append(Line2.split(\",\",1)[1])\n",
        "    \n",
        "test_sequences = tokenizer.texts_to_sequences(test_text)\n",
        "test_padded = pad_sequences(test_sequences, padding=pad_type, truncating=trunc_type, maxlen=37)\n",
        "for i in range(3):\n",
        "    print(\"Testing sequences:\\n\", test_sequences[i])\n",
        "    print(\"\\nPadded testing sequences:\\n\", test_padded[i])\n",
        "print(\"\\nPadded testing shape:\",test_padded.shape)\n"
      ]
    },
    {
      "cell_type": "code",
      "execution_count": 113,
      "metadata": {
        "id": "qV0skMQJLCdp"
      },
      "outputs": [],
      "source": [
        "# Predicting the test output\n",
        "predictions=model.predict(test_padded)\n"
      ]
    },
    {
      "cell_type": "code",
      "execution_count": 118,
      "metadata": {
        "id": "BIkjnn0eLCdp"
      },
      "outputs": [],
      "source": [
        "# saving the file\n",
        "\n",
        "import csv\n",
        "\n",
        "result=open(\"Result.csv\",'w')\n",
        "writer=csv.writer(result)\n",
        "header = ['id', 'Text']\n",
        "writer.writerow(header)\n",
        "for x, y in zip(predictions, test_text):\n",
        "    res=[str(round(x[0])),str(y)]\n",
        "    writer.writerow(res)\n",
        "result.close()\n"
      ]
    },
    {
      "cell_type": "code",
      "source": [
        ""
      ],
      "metadata": {
        "colab": {
          "base_uri": "https://localhost:8080/",
          "height": 35
        },
        "id": "liApMN8K0YyL",
        "outputId": "9b77922c-4fc4-468c-8235-11f8b97583c9"
      },
      "execution_count": 121,
      "outputs": [
        {
          "output_type": "execute_result",
          "data": {
            "text/plain": [
              "'0,omg last day sooon n of primary noooooo x im gona be swimming out of school wif the amount of tears am gona cry\\n'"
            ],
            "application/vnd.google.colaboratory.intrinsic+json": {
              "type": "string"
            }
          },
          "metadata": {},
          "execution_count": 121
        }
      ]
    },
    {
      "cell_type": "markdown",
      "metadata": {
        "id": "KnXTy7Xz5ScT"
      },
      "source": [
        "## Task 2: Anomaly Detection"
      ]
    },
    {
      "cell_type": "markdown",
      "metadata": {
        "id": "JR0YVG2sqTSV"
      },
      "source": [
        "In manufacturing industries, the anomaly detection technique is applied to predict the abnormal activities of machines based on the data read from sensors. In machine learning and data mining, anomaly detection is the task of identifying the rare items, events, or observations that are suspicious and seem different from the majority of the data. In this task, you will predict the possible failure of the system based on the temperature data. And this failure can be detected by check if they follow the trend of the majority of the data.\n",
        "\n",
        "---\n",
        "\n",
        "**Dataset**\n",
        "\n",
        "The given dataset (`ambient_temperature_system_failure.csv`) is a part of Numenta Anomaly Benchmark (NAB) dataset, which is a novel benchmark for evaluating machine learning algorithms in anomaly detection.\n",
        "\n",
        "**Tasks**\n",
        "\n",
        "Because the labels have not been given, you will need to use a LSTM based model to capture the trend of the feature for majority of the data. First, extract $n_x$ features from each of the raw data point. Second, create a sliding window with length $l$. Third, fomulate LSTM taking a matrix of shape $l \\times n_x$ as the input to predict the temperature value of the next time step $l+1$. Last, compare the predicted result and the real data and find out abnormal points where the difference between these two values are larger than the threshold. \n",
        "\n",
        "For instance, if we want to extract 3 features ($n_x=3$), and set the sliding window length to 100 ($l=100$). Then LSTM will take the first 100 (e.g., $[0:100]$) time step data as the input to predict the temperature value of the next time step (e.g., 100). The shape of the input will be $100 \\times 3$, and shape of the output will be a single number.\n",
        "\n",
        "1. Load data\n",
        "    - Read the CSV file.\n",
        "    - Draw a curve to visualize the time-series data.\n",
        "2. Preprocess data\n",
        "    - The raw data of temperature is the degree Fahrenheit, you will need to convert it into degree Celcius.\n",
        "    - Use Pandas package convert string timestamp data into the datatime data. Click [here](https://pandas.pydata.org/pandas-docs/stable/reference/api/pandas.to_datetime.html) for details.\n",
        "3. Feature Engineering\n",
        "    - We will use datatime data to generate four features: hours, day or night, day of the week, weekday or weekends.\n",
        "    - Hour: convert datetime data into hours. The result of your processed data will be [0, 1, 2, ..., 22, 23, 0, 1, ..., 22, 23]. Check [here](https://pandas.pydata.org/pandas-docs/stable/reference/api/pandas.Series.dt.hour.html).\n",
        "    - Day or night: this will be a binary data. 7:00-22:00 will be day time, the rest will be night.\n",
        "    - Day of the week: convert datetime data into day of the week. The result of your processed data will be [0, 1, 2, 3, 4, 5, 6, 0, 1, 2, 3, 4, 5, 6 ...]. Click [here](https://pandas.pydata.org/pandas-docs/stable/reference/api/pandas.Series.dt.dayofweek.html) for more information.\n",
        "    - Workday or weekend: this will be a binary data. Monday to Friday will be workdays, Saturday and Sunday are weekend.\n",
        "    \n",
        "4. Prepare training and testing data\n",
        "    - Split the dataset into training set and test set.\n",
        "    - Min-max normalization.\n",
        "    - Generate sliding window (similar to the last task of HW1) data.\n",
        "3. Build LSTM model\n",
        "    - Build an LSTM model using TensorFlow 2.x.\n",
        "    - Visualize your model.\n",
        "4. Train model\n",
        "    - Initialize hyperparameters.\n",
        "    - Train the model.\n",
        "    - Evaluate the trained model on the test data.\n",
        "    - Visualize the performance including training loss and test loss.\n",
        "5. Find anomalies\n",
        "    - Specify the threshold and predict anomalies on testing dataset.\n",
        "    - Visualize the anomalies.\n"
      ]
    },
    {
      "cell_type": "code",
      "execution_count": 220,
      "metadata": {
        "id": "jj58i84SAdmb",
        "outputId": "ded14c7c-f5ab-45dc-c5d3-f5b4592a580e",
        "colab": {
          "base_uri": "https://localhost:8080/",
          "height": 310
        }
      },
      "outputs": [
        {
          "output_type": "execute_result",
          "data": {
            "text/plain": [
              "<matplotlib.axes._subplots.AxesSubplot at 0x7f75bfdcdcd0>"
            ]
          },
          "metadata": {},
          "execution_count": 220
        },
        {
          "output_type": "display_data",
          "data": {
            "text/plain": [
              "<Figure size 432x288 with 1 Axes>"
            ],
            "image/png": "[encoded data removed]"
          },
          "metadata": {
            "needs_background": "light"
          }
        }
      ],
      "source": [
        "# Write you code here\n",
        "import warnings\n",
        "warnings.filterwarnings(\"ignore\", message=r\"Passing\", category=FutureWarning)\n",
        "import os \n",
        "os.environ['TF_CPP_MIN_LOG_LEVEL']='2'\n",
        "import csv\n",
        "import numpy as np\n",
        "import matplotlib.pyplot as plt\n",
        "import pandas as pd\n",
        "import tensorflow as tf\n",
        "from tensorflow import keras\n",
        "from tensorflow.keras import layers\n",
        "\n",
        "# TODO: read dataset\n",
        "file = pd.read_csv(path_task2,\n",
        "                   parse_dates=True, \n",
        "                   index_col='timestamp')\n",
        "file.head()\n",
        "file['value'].plot(legend=True,y='Temperature Values in Farenheit',title='Time-series Data')\n"
      ]
    },
    {
      "cell_type": "code",
      "execution_count": 221,
      "metadata": {
        "id": "cyKEck-tLCdq"
      },
      "outputs": [],
      "source": [
        "# Changing Farenhiet to Degree celsius\n",
        "\n",
        "file['value'] = round((file['value']-32)*(5/9),5)\n",
        "file.to_csv('ambient_temperature_system_failure_2.csv')"
      ]
    },
    {
      "cell_type": "code",
      "execution_count": 222,
      "metadata": {
        "id": "iHfbjYdPLCdr",
        "outputId": "3a78c38c-e8ce-4b93-fccc-78f2d3607c73",
        "colab": {
          "base_uri": "https://localhost:8080/",
          "height": 423
        }
      },
      "outputs": [
        {
          "output_type": "execute_result",
          "data": {
            "text/plain": [
              "        value  hour  days/night  weekend/weekday  daysofweek\n",
              "0     21.0449     0           0                1           3\n",
              "1     21.7890     1           0                1           3\n",
              "2     21.5988     2           0                1           3\n",
              "3     20.5330     3           0                1           3\n",
              "4     20.7131     4           0                1           3\n",
              "...       ...   ...         ...              ...         ...\n",
              "7262  22.4279    11           1                1           2\n",
              "7263  22.3183    12           1                1           2\n",
              "7264  22.2481    13           1                1           2\n",
              "7265  22.1251    14           1                1           2\n",
              "7266  22.5467    15           1                1           2\n",
              "\n",
              "[7267 rows x 5 columns]"
            ],
            "text/html": [
              "\n",
              "  <div id=\"df-267273ce-4b32-417a-9545-37e172a0b3b7\">\n",
              "    <div class=\"colab-df-container\">\n",
              "      <div>\n",
              "<style scoped>\n",
              "    .dataframe tbody tr th:only-of-type {\n",
              "        vertical-align: middle;\n",
              "    }\n",
              "\n",
              "    .dataframe tbody tr th {\n",
              "        vertical-align: top;\n",
              "    }\n",
              "\n",
              "    .dataframe thead th {\n",
              "        text-align: right;\n",
              "    }\n",
              "</style>\n",
              "<table border=\"1\" class=\"dataframe\">\n",
              "  <thead>\n",
              "    <tr style=\"text-align: right;\">\n",
              "      <th></th>\n",
              "      <th>value</th>\n",
              "      <th>hour</th>\n",
              "      <th>days/night</th>\n",
              "      <th>weekend/weekday</th>\n",
              "      <th>daysofweek</th>\n",
              "    </tr>\n",
              "  </thead>\n",
              "  <tbody>\n",
              "    <tr>\n",
              "      <th>0</th>\n",
              "      <td>21.0449</td>\n",
              "      <td>0</td>\n",
              "      <td>0</td>\n",
              "      <td>1</td>\n",
              "      <td>3</td>\n",
              "    </tr>\n",
              "    <tr>\n",
              "      <th>1</th>\n",
              "      <td>21.7890</td>\n",
              "      <td>1</td>\n",
              "      <td>0</td>\n",
              "      <td>1</td>\n",
              "      <td>3</td>\n",
              "    </tr>\n",
              "    <tr>\n",
              "      <th>2</th>\n",
              "      <td>21.5988</td>\n",
              "      <td>2</td>\n",
              "      <td>0</td>\n",
              "      <td>1</td>\n",
              "      <td>3</td>\n",
              "    </tr>\n",
              "    <tr>\n",
              "      <th>3</th>\n",
              "      <td>20.5330</td>\n",
              "      <td>3</td>\n",
              "      <td>0</td>\n",
              "      <td>1</td>\n",
              "      <td>3</td>\n",
              "    </tr>\n",
              "    <tr>\n",
              "      <th>4</th>\n",
              "      <td>20.7131</td>\n",
              "      <td>4</td>\n",
              "      <td>0</td>\n",
              "      <td>1</td>\n",
              "      <td>3</td>\n",
              "    </tr>\n",
              "    <tr>\n",
              "      <th>...</th>\n",
              "      <td>...</td>\n",
              "      <td>...</td>\n",
              "      <td>...</td>\n",
              "      <td>...</td>\n",
              "      <td>...</td>\n",
              "    </tr>\n",
              "    <tr>\n",
              "      <th>7262</th>\n",
              "      <td>22.4279</td>\n",
              "      <td>11</td>\n",
              "      <td>1</td>\n",
              "      <td>1</td>\n",
              "      <td>2</td>\n",
              "    </tr>\n",
              "    <tr>\n",
              "      <th>7263</th>\n",
              "      <td>22.3183</td>\n",
              "      <td>12</td>\n",
              "      <td>1</td>\n",
              "      <td>1</td>\n",
              "      <td>2</td>\n",
              "    </tr>\n",
              "    <tr>\n",
              "      <th>7264</th>\n",
              "      <td>22.2481</td>\n",
              "      <td>13</td>\n",
              "      <td>1</td>\n",
              "      <td>1</td>\n",
              "      <td>2</td>\n",
              "    </tr>\n",
              "    <tr>\n",
              "      <th>7265</th>\n",
              "      <td>22.1251</td>\n",
              "      <td>14</td>\n",
              "      <td>1</td>\n",
              "      <td>1</td>\n",
              "      <td>2</td>\n",
              "    </tr>\n",
              "    <tr>\n",
              "      <th>7266</th>\n",
              "      <td>22.5467</td>\n",
              "      <td>15</td>\n",
              "      <td>1</td>\n",
              "      <td>1</td>\n",
              "      <td>2</td>\n",
              "    </tr>\n",
              "  </tbody>\n",
              "</table>\n",
              "<p>7267 rows × 5 columns</p>\n",
              "</div>\n",
              "      <button class=\"colab-df-convert\" onclick=\"convertToInteractive('df-267273ce-4b32-417a-9545-37e172a0b3b7')\"\n",
              "              title=\"Convert this dataframe to an interactive table.\"\n",
              "              style=\"display:none;\">\n",
              "        \n",
              "  <svg xmlns=\"http://www.w3.org/2000/svg\" height=\"24px\"viewBox=\"0 0 24 24\"\n",
              "       width=\"24px\">\n",
              "    <path d=\"M0 0h24v24H0V0z\" fill=\"none\"/>\n",
              "    <path d=\"M18.56 5.44l.94 2.06.94-2.06 2.06-.94-2.06-.94-.94-2.06-.94 2.06-2.06.94zm-11 1L8.5 8.5l.94-2.06 2.06-.94-2.06-.94L8.5 2.5l-.94 2.06-2.06.94zm10 10l.94 2.06.94-2.06 2.06-.94-2.06-.94-.94-2.06-.94 2.06-2.06.94z\"/><path d=\"M17.41 7.96l-1.37-1.37c-.4-.4-.92-.59-1.43-.59-.52 0-1.04.2-1.43.59L10.3 9.45l-7.72 7.72c-.78.78-.78 2.05 0 2.83L4 21.41c.39.39.9.59 1.41.59.51 0 1.02-.2 1.41-.59l7.78-7.78 2.81-2.81c.8-.78.8-2.07 0-2.86zM5.41 20L4 18.59l7.72-7.72 1.47 1.35L5.41 20z\"/>\n",
              "  </svg>\n",
              "      </button>\n",
              "      \n",
              "  <style>\n",
              "    .colab-df-container {\n",
              "      display:flex;\n",
              "      flex-wrap:wrap;\n",
              "      gap: 12px;\n",
              "    }\n",
              "\n",
              "    .colab-df-convert {\n",
              "      background-color: #E8F0FE;\n",
              "      border: none;\n",
              "      border-radius: 50%;\n",
              "      cursor: pointer;\n",
              "      display: none;\n",
              "      fill: #1967D2;\n",
              "      height: 32px;\n",
              "      padding: 0 0 0 0;\n",
              "      width: 32px;\n",
              "    }\n",
              "\n",
              "    .colab-df-convert:hover {\n",
              "      background-color: #E2EBFA;\n",
              "      box-shadow: 0px 1px 2px rgba(60, 64, 67, 0.3), 0px 1px 3px 1px rgba(60, 64, 67, 0.15);\n",
              "      fill: #174EA6;\n",
              "    }\n",
              "\n",
              "    [theme=dark] .colab-df-convert {\n",
              "      background-color: #3B4455;\n",
              "      fill: #D2E3FC;\n",
              "    }\n",
              "\n",
              "    [theme=dark] .colab-df-convert:hover {\n",
              "      background-color: #434B5C;\n",
              "      box-shadow: 0px 1px 3px 1px rgba(0, 0, 0, 0.15);\n",
              "      filter: drop-shadow(0px 1px 2px rgba(0, 0, 0, 0.3));\n",
              "      fill: #FFFFFF;\n",
              "    }\n",
              "  </style>\n",
              "\n",
              "      <script>\n",
              "        const buttonEl =\n",
              "          document.querySelector('#df-267273ce-4b32-417a-9545-37e172a0b3b7 button.colab-df-convert');\n",
              "        buttonEl.style.display =\n",
              "          google.colab.kernel.accessAllowed ? 'block' : 'none';\n",
              "\n",
              "        async function convertToInteractive(key) {\n",
              "          const element = document.querySelector('#df-267273ce-4b32-417a-9545-37e172a0b3b7');\n",
              "          const dataTable =\n",
              "            await google.colab.kernel.invokeFunction('convertToInteractive',\n",
              "                                                     [key], {});\n",
              "          if (!dataTable) return;\n",
              "\n",
              "          const docLinkHtml = 'Like what you see? Visit the ' +\n",
              "            '<a target=\"_blank\" href=https://colab.research.google.com/notebooks/data_table.ipynb>data table notebook</a>'\n",
              "            + ' to learn more about interactive tables.';\n",
              "          element.innerHTML = '';\n",
              "          dataTable['output_type'] = 'display_data';\n",
              "          await google.colab.output.renderOutput(dataTable, element);\n",
              "          const docLink = document.createElement('div');\n",
              "          docLink.innerHTML = docLinkHtml;\n",
              "          element.appendChild(docLink);\n",
              "        }\n",
              "      </script>\n",
              "    </div>\n",
              "  </div>\n",
              "  "
            ]
          },
          "metadata": {},
          "execution_count": 222
        }
      ],
      "source": [
        "# Feature Engineering\n",
        "\n",
        "file= pd.read_csv('ambient_temperature_system_failure_2.csv',\n",
        "                   parse_dates=True)\n",
        "\n",
        "\n",
        "\n",
        "file['value']=np.round(file['value'],decimals = 4)\n",
        "file.to_csv('out.csv',index=False)  \n",
        "\n",
        "file['timestamp']=pd.to_datetime(file['timestamp'])\n",
        "\n",
        "datetime_series = pd.Series(file['timestamp'])\n",
        "\n",
        "# Hour information \n",
        "file[\"hour\"]=file['timestamp'].dt.hour\n",
        "\n",
        "#Day=1 and Night=0 binary data\n",
        "array=[]\n",
        "for elements in datetime_series.dt.hour:\n",
        "    if elements>6 and elements<23:\n",
        "        array.append(1)\n",
        "    else:\n",
        "        array.append(0)\n",
        "\n",
        "file.insert(3,column=\"days/night\",value=array)\n",
        "\n",
        "# Adding days of week \n",
        "\n",
        "file.insert(4,column=\"daysofweek\",value=datetime_series.dt.dayofweek)\n",
        "\n",
        "\n",
        "# Adding weekday and weekends information\n",
        "# datetime_series.dt.weekday outputs -->> Monday=0, Sunday=6.\n",
        "\n",
        "#  Monday-friday = 1 and saturday and sunday =0\n",
        "array=[]\n",
        "for elements in datetime_series.dt.weekday:\n",
        "    if elements==5 or elements==6:\n",
        "        array.append(0)\n",
        "    else:\n",
        "        array.append(1)\n",
        "file.insert(4,column=\"weekend/weekday\",value=array)\n",
        "file.drop('timestamp', inplace=True, axis=1)\n",
        "file\n"
      ]
    },
    {
      "cell_type": "code",
      "execution_count": 223,
      "metadata": {
        "id": "cuGV8iKELCdr",
        "outputId": "2a40e2ea-adeb-4d7e-b24f-c1564a7a8eb0",
        "colab": {
          "base_uri": "https://localhost:8080/"
        }
      },
      "outputs": [
        {
          "output_type": "execute_result",
          "data": {
            "text/plain": [
              "['value', 'hour', 'days/night', 'weekend/weekday', 'daysofweek']"
            ]
          },
          "metadata": {},
          "execution_count": 223
        }
      ],
      "source": [
        "# Normalizing using min max method\n",
        "\n",
        "normalized_data=(file-file.min())/(file.max()-file.min())\n",
        "labels=list(normalized_data.keys())\n",
        "labels\n"
      ]
    },
    {
      "cell_type": "code",
      "execution_count": 224,
      "metadata": {
        "id": "PIH2oKZdLCdr",
        "outputId": "1da094db-8edf-4a02-8d02-a31496b0cea1",
        "colab": {
          "base_uri": "https://localhost:8080/"
        }
      },
      "outputs": [
        {
          "output_type": "stream",
          "name": "stdout",
          "text": [
            "Size of train data :  (5813, 5)\n",
            "Size of test data :  (1454, 5)\n"
          ]
        }
      ],
      "source": [
        "#Split training and testing dataset (80:20)\n",
        "\n",
        "n = len(normalized_data)\n",
        "training_data= normalized_data[0:int(n*0.8)]\n",
        "testing_data= normalized_data[int(n*0.8):]\n",
        "print(\"Size of train data : \",training_data.shape)\n",
        "print(\"Size of test data : \",testing_data.shape)\n"
      ]
    },
    {
      "cell_type": "code",
      "source": [
        "testing_data"
      ],
      "metadata": {
        "colab": {
          "base_uri": "https://localhost:8080/",
          "height": 423
        },
        "id": "jpuPk1c_HNDX",
        "outputId": "799b9c5a-55b4-4e54-9429-bc968f6cec5f"
      },
      "execution_count": 229,
      "outputs": [
        {
          "output_type": "execute_result",
          "data": {
            "text/plain": [
              "         value      hour  days/night  weekend/weekday  daysofweek\n",
              "5813  0.303290  0.304348         1.0              1.0    0.666667\n",
              "5814  0.306119  0.347826         1.0              1.0    0.666667\n",
              "5815  0.374258  0.391304         1.0              1.0    0.666667\n",
              "5816  0.406949  0.434783         1.0              1.0    0.666667\n",
              "5817  0.405040  0.478261         1.0              1.0    0.666667\n",
              "...        ...       ...         ...              ...         ...\n",
              "7262  0.518404  0.478261         1.0              1.0    0.333333\n",
              "7263  0.511545  0.521739         1.0              1.0    0.333333\n",
              "7264  0.507153  0.565217         1.0              1.0    0.333333\n",
              "7265  0.499456  0.608696         1.0              1.0    0.333333\n",
              "7266  0.525838  0.652174         1.0              1.0    0.333333\n",
              "\n",
              "[1454 rows x 5 columns]"
            ],
            "text/html": [
              "\n",
              "  <div id=\"df-b0fe06c3-dff4-4dc2-8ff1-23b8db4b6928\">\n",
              "    <div class=\"colab-df-container\">\n",
              "      <div>\n",
              "<style scoped>\n",
              "    .dataframe tbody tr th:only-of-type {\n",
              "        vertical-align: middle;\n",
              "    }\n",
              "\n",
              "    .dataframe tbody tr th {\n",
              "        vertical-align: top;\n",
              "    }\n",
              "\n",
              "    .dataframe thead th {\n",
              "        text-align: right;\n",
              "    }\n",
              "</style>\n",
              "<table border=\"1\" class=\"dataframe\">\n",
              "  <thead>\n",
              "    <tr style=\"text-align: right;\">\n",
              "      <th></th>\n",
              "      <th>value</th>\n",
              "      <th>hour</th>\n",
              "      <th>days/night</th>\n",
              "      <th>weekend/weekday</th>\n",
              "      <th>daysofweek</th>\n",
              "    </tr>\n",
              "  </thead>\n",
              "  <tbody>\n",
              "    <tr>\n",
              "      <th>5813</th>\n",
              "      <td>0.303290</td>\n",
              "      <td>0.304348</td>\n",
              "      <td>1.0</td>\n",
              "      <td>1.0</td>\n",
              "      <td>0.666667</td>\n",
              "    </tr>\n",
              "    <tr>\n",
              "      <th>5814</th>\n",
              "      <td>0.306119</td>\n",
              "      <td>0.347826</td>\n",
              "      <td>1.0</td>\n",
              "      <td>1.0</td>\n",
              "      <td>0.666667</td>\n",
              "    </tr>\n",
              "    <tr>\n",
              "      <th>5815</th>\n",
              "      <td>0.374258</td>\n",
              "      <td>0.391304</td>\n",
              "      <td>1.0</td>\n",
              "      <td>1.0</td>\n",
              "      <td>0.666667</td>\n",
              "    </tr>\n",
              "    <tr>\n",
              "      <th>5816</th>\n",
              "      <td>0.406949</td>\n",
              "      <td>0.434783</td>\n",
              "      <td>1.0</td>\n",
              "      <td>1.0</td>\n",
              "      <td>0.666667</td>\n",
              "    </tr>\n",
              "    <tr>\n",
              "      <th>5817</th>\n",
              "      <td>0.405040</td>\n",
              "      <td>0.478261</td>\n",
              "      <td>1.0</td>\n",
              "      <td>1.0</td>\n",
              "      <td>0.666667</td>\n",
              "    </tr>\n",
              "    <tr>\n",
              "      <th>...</th>\n",
              "      <td>...</td>\n",
              "      <td>...</td>\n",
              "      <td>...</td>\n",
              "      <td>...</td>\n",
              "      <td>...</td>\n",
              "    </tr>\n",
              "    <tr>\n",
              "      <th>7262</th>\n",
              "      <td>0.518404</td>\n",
              "      <td>0.478261</td>\n",
              "      <td>1.0</td>\n",
              "      <td>1.0</td>\n",
              "      <td>0.333333</td>\n",
              "    </tr>\n",
              "    <tr>\n",
              "      <th>7263</th>\n",
              "      <td>0.511545</td>\n",
              "      <td>0.521739</td>\n",
              "      <td>1.0</td>\n",
              "      <td>1.0</td>\n",
              "      <td>0.333333</td>\n",
              "    </tr>\n",
              "    <tr>\n",
              "      <th>7264</th>\n",
              "      <td>0.507153</td>\n",
              "      <td>0.565217</td>\n",
              "      <td>1.0</td>\n",
              "      <td>1.0</td>\n",
              "      <td>0.333333</td>\n",
              "    </tr>\n",
              "    <tr>\n",
              "      <th>7265</th>\n",
              "      <td>0.499456</td>\n",
              "      <td>0.608696</td>\n",
              "      <td>1.0</td>\n",
              "      <td>1.0</td>\n",
              "      <td>0.333333</td>\n",
              "    </tr>\n",
              "    <tr>\n",
              "      <th>7266</th>\n",
              "      <td>0.525838</td>\n",
              "      <td>0.652174</td>\n",
              "      <td>1.0</td>\n",
              "      <td>1.0</td>\n",
              "      <td>0.333333</td>\n",
              "    </tr>\n",
              "  </tbody>\n",
              "</table>\n",
              "<p>1454 rows × 5 columns</p>\n",
              "</div>\n",
              "      <button class=\"colab-df-convert\" onclick=\"convertToInteractive('df-b0fe06c3-dff4-4dc2-8ff1-23b8db4b6928')\"\n",
              "              title=\"Convert this dataframe to an interactive table.\"\n",
              "              style=\"display:none;\">\n",
              "        \n",
              "  <svg xmlns=\"http://www.w3.org/2000/svg\" height=\"24px\"viewBox=\"0 0 24 24\"\n",
              "       width=\"24px\">\n",
              "    <path d=\"M0 0h24v24H0V0z\" fill=\"none\"/>\n",
              "    <path d=\"M18.56 5.44l.94 2.06.94-2.06 2.06-.94-2.06-.94-.94-2.06-.94 2.06-2.06.94zm-11 1L8.5 8.5l.94-2.06 2.06-.94-2.06-.94L8.5 2.5l-.94 2.06-2.06.94zm10 10l.94 2.06.94-2.06 2.06-.94-2.06-.94-.94-2.06-.94 2.06-2.06.94z\"/><path d=\"M17.41 7.96l-1.37-1.37c-.4-.4-.92-.59-1.43-.59-.52 0-1.04.2-1.43.59L10.3 9.45l-7.72 7.72c-.78.78-.78 2.05 0 2.83L4 21.41c.39.39.9.59 1.41.59.51 0 1.02-.2 1.41-.59l7.78-7.78 2.81-2.81c.8-.78.8-2.07 0-2.86zM5.41 20L4 18.59l7.72-7.72 1.47 1.35L5.41 20z\"/>\n",
              "  </svg>\n",
              "      </button>\n",
              "      \n",
              "  <style>\n",
              "    .colab-df-container {\n",
              "      display:flex;\n",
              "      flex-wrap:wrap;\n",
              "      gap: 12px;\n",
              "    }\n",
              "\n",
              "    .colab-df-convert {\n",
              "      background-color: #E8F0FE;\n",
              "      border: none;\n",
              "      border-radius: 50%;\n",
              "      cursor: pointer;\n",
              "      display: none;\n",
              "      fill: #1967D2;\n",
              "      height: 32px;\n",
              "      padding: 0 0 0 0;\n",
              "      width: 32px;\n",
              "    }\n",
              "\n",
              "    .colab-df-convert:hover {\n",
              "      background-color: #E2EBFA;\n",
              "      box-shadow: 0px 1px 2px rgba(60, 64, 67, 0.3), 0px 1px 3px 1px rgba(60, 64, 67, 0.15);\n",
              "      fill: #174EA6;\n",
              "    }\n",
              "\n",
              "    [theme=dark] .colab-df-convert {\n",
              "      background-color: #3B4455;\n",
              "      fill: #D2E3FC;\n",
              "    }\n",
              "\n",
              "    [theme=dark] .colab-df-convert:hover {\n",
              "      background-color: #434B5C;\n",
              "      box-shadow: 0px 1px 3px 1px rgba(0, 0, 0, 0.15);\n",
              "      filter: drop-shadow(0px 1px 2px rgba(0, 0, 0, 0.3));\n",
              "      fill: #FFFFFF;\n",
              "    }\n",
              "  </style>\n",
              "\n",
              "      <script>\n",
              "        const buttonEl =\n",
              "          document.querySelector('#df-b0fe06c3-dff4-4dc2-8ff1-23b8db4b6928 button.colab-df-convert');\n",
              "        buttonEl.style.display =\n",
              "          google.colab.kernel.accessAllowed ? 'block' : 'none';\n",
              "\n",
              "        async function convertToInteractive(key) {\n",
              "          const element = document.querySelector('#df-b0fe06c3-dff4-4dc2-8ff1-23b8db4b6928');\n",
              "          const dataTable =\n",
              "            await google.colab.kernel.invokeFunction('convertToInteractive',\n",
              "                                                     [key], {});\n",
              "          if (!dataTable) return;\n",
              "\n",
              "          const docLinkHtml = 'Like what you see? Visit the ' +\n",
              "            '<a target=\"_blank\" href=https://colab.research.google.com/notebooks/data_table.ipynb>data table notebook</a>'\n",
              "            + ' to learn more about interactive tables.';\n",
              "          element.innerHTML = '';\n",
              "          dataTable['output_type'] = 'display_data';\n",
              "          await google.colab.output.renderOutput(dataTable, element);\n",
              "          const docLink = document.createElement('div');\n",
              "          docLink.innerHTML = docLinkHtml;\n",
              "          element.appendChild(docLink);\n",
              "        }\n",
              "      </script>\n",
              "    </div>\n",
              "  </div>\n",
              "  "
            ]
          },
          "metadata": {},
          "execution_count": 229
        }
      ]
    },
    {
      "cell_type": "code",
      "execution_count": 244,
      "metadata": {
        "id": "U_L20atsLCds"
      },
      "outputs": [],
      "source": [
        "def window_generator(start,end,data):\n",
        "    window=data.loc[start:end-1,['value','hour', 'days/night', 'weekend/weekday', 'daysofweek']]\n",
        "    window_label=data.loc[end,['value']]\n",
        "    return window,window_label\n",
        "\n",
        "def slice_data(dataset,length_of_window,idx):\n",
        "    \n",
        "    tmp_feature=[]\n",
        "    tmp_label=[]\n",
        "    end_idx=idx+length_of_window\n",
        "    for i in range(len(dataset)-100):\n",
        "        window_feature,window_label=window_generator(idx+i,end_idx+i,dataset)\n",
        "        tmp_feature.append(np.array(window_feature))\n",
        "        tmp_label.append(np.array(window_label))\n",
        "    features=np.array(tmp_feature)\n",
        "    labels=np.array(tmp_label)\n",
        "    return features,labels"
      ]
    },
    {
      "cell_type": "code",
      "execution_count": 245,
      "metadata": {
        "id": "Ogb5gSAbLCds"
      },
      "outputs": [],
      "source": [
        "# Sliding window of size - n=100\n",
        "# for training data\n",
        "\n",
        "train,train_label=slice_data(training_data,100,0)\n",
        "test,test_label=slice_data(testing_data,100,len(training_data))"
      ]
    },
    {
      "cell_type": "code",
      "execution_count": 249,
      "metadata": {
        "id": "cgA98sz3LCds",
        "outputId": "0cd4a1a1-1b20-48a8-ef67-f91134e6b355",
        "colab": {
          "base_uri": "https://localhost:8080/"
        }
      },
      "outputs": [
        {
          "output_type": "stream",
          "name": "stdout",
          "text": [
            "Model: \"sequential_25\"\n",
            "_________________________________________________________________\n",
            " Layer (type)                Output Shape              Param #   \n",
            "=================================================================\n",
            " lstm_2 (LSTM)               (None, 64)                17920     \n",
            "                                                                 \n",
            " dense_15 (Dense)            (None, 1)                 65        \n",
            "                                                                 \n",
            "=================================================================\n",
            "Total params: 17,985\n",
            "Trainable params: 17,985\n",
            "Non-trainable params: 0\n",
            "_________________________________________________________________\n"
          ]
        }
      ],
      "source": [
        "# Build LSTM Model\n",
        "\n",
        "model = keras.Sequential()\n",
        "model.add(layers.LSTM(64,input_shape=(100,5)))\n",
        "model.add(layers.Dense(1))\n",
        "model.summary()"
      ]
    },
    {
      "cell_type": "code",
      "source": [
        "# Visualize the model\n",
        "\n",
        "tf.keras.utils.plot_model(\n",
        "    model, to_file='model2.png', show_shapes=False, \n",
        "    show_layer_names=True, rankdir='TB')"
      ],
      "metadata": {
        "colab": {
          "base_uri": "https://localhost:8080/",
          "height": 272
        },
        "id": "xzvOl5Oc4DHH",
        "outputId": "ecb1fb24-f9aa-4002-eaf8-457f84d60626"
      },
      "execution_count": 176,
      "outputs": [
        {
          "output_type": "execute_result",
          "data": {
            "text/plain": [
              "<IPython.core.display.Image object>"
            ],
            "image/png": "[encoded data removed]"
          },
          "metadata": {},
          "execution_count": 176
        }
      ]
    },
    {
      "cell_type": "code",
      "execution_count": 177,
      "metadata": {
        "id": "cKcfFGSELCdt",
        "outputId": "04a7b8fa-e99c-4288-a201-7fb46b4e5517",
        "colab": {
          "base_uri": "https://localhost:8080/"
        }
      },
      "outputs": [
        {
          "output_type": "stream",
          "name": "stdout",
          "text": [
            "Epoch 1/10\n",
            "179/179 - 6s - loss: 0.0121 - mean_absolute_error: 0.0681 - val_loss: 0.0047 - val_mean_absolute_error: 0.0543 - 6s/epoch - 34ms/step\n",
            "Epoch 2/10\n",
            "179/179 - 4s - loss: 0.0015 - mean_absolute_error: 0.0305 - val_loss: 0.0036 - val_mean_absolute_error: 0.0468 - 4s/epoch - 21ms/step\n",
            "Epoch 3/10\n",
            "179/179 - 4s - loss: 0.0013 - mean_absolute_error: 0.0282 - val_loss: 0.0030 - val_mean_absolute_error: 0.0427 - 4s/epoch - 21ms/step\n",
            "Epoch 4/10\n",
            "179/179 - 4s - loss: 0.0012 - mean_absolute_error: 0.0270 - val_loss: 0.0026 - val_mean_absolute_error: 0.0392 - 4s/epoch - 21ms/step\n",
            "Epoch 5/10\n",
            "179/179 - 4s - loss: 0.0011 - mean_absolute_error: 0.0269 - val_loss: 0.0031 - val_mean_absolute_error: 0.0437 - 4s/epoch - 21ms/step\n",
            "Epoch 6/10\n",
            "179/179 - 4s - loss: 0.0010 - mean_absolute_error: 0.0257 - val_loss: 0.0022 - val_mean_absolute_error: 0.0364 - 4s/epoch - 21ms/step\n",
            "Epoch 7/10\n",
            "179/179 - 4s - loss: 9.7817e-04 - mean_absolute_error: 0.0248 - val_loss: 0.0020 - val_mean_absolute_error: 0.0343 - 4s/epoch - 21ms/step\n",
            "Epoch 8/10\n",
            "179/179 - 4s - loss: 9.2681e-04 - mean_absolute_error: 0.0243 - val_loss: 0.0021 - val_mean_absolute_error: 0.0358 - 4s/epoch - 22ms/step\n",
            "Epoch 9/10\n",
            "179/179 - 4s - loss: 8.9047e-04 - mean_absolute_error: 0.0237 - val_loss: 0.0018 - val_mean_absolute_error: 0.0330 - 4s/epoch - 23ms/step\n",
            "Epoch 10/10\n",
            "179/179 - 4s - loss: 8.6420e-04 - mean_absolute_error: 0.0234 - val_loss: 0.0016 - val_mean_absolute_error: 0.0315 - 4s/epoch - 21ms/step\n"
          ]
        }
      ],
      "source": [
        "model.compile (loss=keras.losses.MeanSquaredError(),\n",
        "               optimizer=keras.optimizers.Adam(),\n",
        "               metrics=[keras.metrics.MeanAbsoluteError()])\n",
        "\n",
        "history = model.fit(train,train_label,validation_data=(test,test_label),verbose=2,epochs=10)     \n",
        "        "
      ]
    },
    {
      "cell_type": "code",
      "execution_count": 178,
      "metadata": {
        "id": "Sp_1I8OHLCdt",
        "outputId": "45bfdb8f-a9ce-46a3-83d6-9def606ee764",
        "colab": {
          "base_uri": "https://localhost:8080/",
          "height": 279
        }
      },
      "outputs": [
        {
          "output_type": "display_data",
          "data": {
            "text/plain": [
              "<Figure size 432x288 with 1 Axes>"
            ],
            "image/png": "[encoded data removed]"
          },
          "metadata": {
            "needs_background": "light"
          }
        }
      ],
      "source": [
        "# TODO: visualize the training and testing loss curves of your optimal model\n",
        "import matplotlib.pyplot as plt\n",
        "\n",
        "plt.plot(history.history['loss'], label='Train_loss')\n",
        "plt.plot(history.history['val_loss'], label='validation_loss')\n",
        "plt.xlabel('Epoch')\n",
        "plt.ylabel('Loss')\n",
        "\n",
        "plt.legend(loc='upper right')\n",
        "plt.show()\n"
      ]
    },
    {
      "cell_type": "code",
      "source": [
        "performance=model.evaluate(test,test_label,verbose=0)"
      ],
      "metadata": {
        "id": "U4vvDMNI6Q9f"
      },
      "execution_count": 181,
      "outputs": []
    },
    {
      "cell_type": "code",
      "source": [
        "performance"
      ],
      "metadata": {
        "colab": {
          "base_uri": "https://localhost:8080/"
        },
        "id": "5rW5z8xA-ZIs",
        "outputId": "51c18fef-487e-4563-888f-4d1fb87c5dba"
      },
      "execution_count": 182,
      "outputs": [
        {
          "output_type": "execute_result",
          "data": {
            "text/plain": [
              "[0.001634483109228313, 0.03150421753525734]"
            ]
          },
          "metadata": {},
          "execution_count": 182
        }
      ]
    },
    {
      "cell_type": "code",
      "execution_count": 183,
      "metadata": {
        "id": "HcJSSYWxLCdt"
      },
      "outputs": [],
      "source": [
        "predictions=model.predict(test)\n"
      ]
    },
    {
      "cell_type": "code",
      "execution_count": 184,
      "metadata": {
        "id": "x2ejRbUjLCdt",
        "outputId": "9fe35227-99ac-4919-c7d5-b871918db4de",
        "colab": {
          "base_uri": "https://localhost:8080/"
        }
      },
      "outputs": [
        {
          "output_type": "execute_result",
          "data": {
            "text/plain": [
              "array([[0.39440915],\n",
              "       [0.3697906 ],\n",
              "       [0.35650334],\n",
              "       ...,\n",
              "       [0.47543198],\n",
              "       [0.49861625],\n",
              "       [0.5126831 ]], dtype=float32)"
            ]
          },
          "metadata": {},
          "execution_count": 184
        }
      ],
      "source": [
        "predictions"
      ]
    },
    {
      "cell_type": "code",
      "execution_count": 250,
      "metadata": {
        "id": "FcQYIKQjLCdt",
        "outputId": "ebd537c5-3fd9-41a9-a81b-992dc373509c",
        "colab": {
          "base_uri": "https://localhost:8080/",
          "height": 295
        }
      },
      "outputs": [
        {
          "output_type": "display_data",
          "data": {
            "text/plain": [
              "<Figure size 432x288 with 1 Axes>"
            ],
            "image/png": "[encoded data removed]"
          },
          "metadata": {
            "needs_background": "light"
          }
        }
      ],
      "source": [
        "#Plotting the data \n",
        "test_label=np.squeeze(test_label)\n",
        "predictions=np.squeeze(predictions)\n",
        "plt.plot(predictions, label='predicted values')\n",
        "plt.plot(test_label,label='actual test label values')\n",
        "plt.xlabel('x')\n",
        "plt.title('Visualize all the data')\n",
        "plt.legend()\n",
        "plt.show()"
      ]
    },
    {
      "cell_type": "code",
      "execution_count": 205,
      "metadata": {
        "id": "40Z8Yc-DLCdu"
      },
      "outputs": [],
      "source": [
        "Anamoly=test_label-predictions"
      ]
    },
    {
      "cell_type": "code",
      "source": [
        "threshold=max(Anamoly)*.70\n",
        "threshold"
      ],
      "metadata": {
        "colab": {
          "base_uri": "https://localhost:8080/"
        },
        "id": "PkO8FS_v-4Ns",
        "outputId": "d2b5e6fc-1482-4a11-a4dc-bd4d71cc7897"
      },
      "execution_count": 215,
      "outputs": [
        {
          "output_type": "execute_result",
          "data": {
            "text/plain": [
              "0.09676681300222152"
            ]
          },
          "metadata": {},
          "execution_count": 215
        }
      ]
    },
    {
      "cell_type": "code",
      "source": [
        "# Visualising the Anamolies from the predicted values\n",
        "\n",
        "anamoly_values=[]\n",
        "predicted_value=[]\n",
        "for i in range(len(Anamoly)):\n",
        "  if Anamoly[i]>=threshold:\n",
        "    anamoly_values.append(test_label[i])\n",
        "    predicted_value.append(predictions[i])\n",
        "\n",
        "plt.plot(anamoly_values, label='anamoly_values in test data')\n",
        "\n",
        "plt.plot(predicted_value,label='predicted values')\n",
        "plt.title('Visualizing Anamolies')\n",
        "plt.legend()\n",
        "plt.show()\n",
        "\n"
      ],
      "metadata": {
        "colab": {
          "base_uri": "https://localhost:8080/",
          "height": 281
        },
        "id": "uLYZlD9o_rWu",
        "outputId": "45a344ed-e116-4777-d057-3a015659ba39"
      },
      "execution_count": 217,
      "outputs": [
        {
          "output_type": "display_data",
          "data": {
            "text/plain": [
              "<Figure size 432x288 with 1 Axes>"
            ],
            "image/png": "[encoded data removed]"
          },
          "metadata": {
            "needs_background": "light"
          }
        }
      ]
    }
  ],
  "metadata": {
    "accelerator": "GPU",
    "colab": {
      "collapsed_sections": [],
      "name": "AuE8930_Mini-Project_4.ipynb",
      "provenance": []
    },
    "kernelspec": {
      "display_name": "tf-gpu",
      "language": "python",
      "name": "tf-gpu"
    },
    "language_info": {
      "codemirror_mode": {
        "name": "ipython",
        "version": 3
      },
      "file_extension": ".py",
      "mimetype": "text/x-python",
      "name": "python",
      "nbconvert_exporter": "python",
      "pygments_lexer": "ipython3",
      "version": "3.6.4"
    }
  },
  "nbformat": 4,
  "nbformat_minor": 0
}