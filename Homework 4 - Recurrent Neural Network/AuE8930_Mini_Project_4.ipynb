{
  "cells": [
    {
      "cell_type": "markdown",
      "metadata": {
        "id": "Jh5-KMT8f52R"
      },
      "source": [
        "# Mini-Project 4\n",
        "\n",
        "Welcome to your fourth Mini Project! You will build an RNN model to classify text and an LSTM model for anomaly detection (also outlier detection) on the temperature sensor data. **Please complete your assignment in this Jupyter Notebook.**\n",
        "\n",
        "---\n",
        "\n",
        "**Requirements**: \n",
        "- TensorFlow 2.x is allowed to implement your models.\n",
        "- Your code should follow [PEP 8](https://www.python.org/dev/peps/pep-0008/) with necessary comments."
      ]
    },
    {
      "cell_type": "markdown",
      "metadata": {
        "id": "Obgo-lZd5Lzi"
      },
      "source": [
        "## Task 1: Text Classification"
      ]
    },
    {
      "cell_type": "markdown",
      "metadata": {
        "id": "mfrEGE2kiiqv"
      },
      "source": [
        "This task aims to train a sentiment analysis model to classify given sentences as **positive or negative**, based on the Recurrent Neural Network.\n",
        "\n",
        "---\n",
        "\n",
        "**Tasks**\n",
        "\n",
        "1. Load data\n",
        "    - Load the training data and the test data.\n",
        "    - Extract labels and texts which are seperated by the string of `\" +++$+++ \"`.\n",
        "    - Eliminate index information in the test data so that you can get pure sentences.\n",
        "    - Print out the first 10 examples of your training set and test set.\n",
        "2. Preprocess data\n",
        "    - Tokenize the data and convert the text to sequences.\n",
        "    - Add padding to ensure that all the sequences have the same shape.\n",
        "    - **Hint**: click [here](https://www.kdnuggets.com/2020/03/tensorflow-keras-tokenization-text-data-prep.html) for more information.\n",
        "3. Build RNN model\n",
        "    - Build a RNN based on TensorFlow 2.x.\n",
        "    - Visualize the model using [tf.keras.utils.plot_model](https://www.tensorflow.org/api_docs/python/tf/keras/utils/plot_model).\n",
        "4. Train model\n",
        "    - Initialize hyperparameters.\n",
        "    - Train your model.\n",
        "    - Visualize the performance including training loss, training accuracy, validation loss, and validation accuracy.\n",
        "5. Predict\n",
        "    - Test your model on the test data.\n",
        "    - Save the predicted results (labels and texts) in a CSV file and submit it to Canvas.\n"
      ]
    },
    {
      "cell_type": "code",
      "source": [
        "import os\n",
        "from google.colab import drive\n",
        "drive.mount('/content/drive')\n",
        "currentpath=os.getcwd()\n",
        "path_task1_train=currentpath+\"/drive/MyDrive/Colab Notebooks/task1_training_data.txt\"\n",
        "path_task1_test=currentpath+\"/drive/MyDrive/Colab Notebooks/task1_test_data.txt\"\n",
        "path_task2=currentpath+\"/drive/MyDrive/Colab Notebooks/ambient_temperature_system_failure.csv\""
      ],
      "metadata": {
        "colab": {
          "base_uri": "https://localhost:8080/"
        },
        "id": "BPAr3Ux1N2T0",
        "outputId": "96d42410-046d-4dfb-c93e-60604e788d06"
      },
      "execution_count": null,
      "outputs": [
        {
          "output_type": "stream",
          "name": "stdout",
          "text": [
            "Mounted at /content/drive\n"
          ]
        }
      ]
    },
    {
      "cell_type": "code",
      "execution_count": null,
      "metadata": {
        "id": "7zYDENWa4JZV"
      },
      "outputs": [],
      "source": [
        "# Write your code here\n",
        "\n",
        "import warnings\n",
        "warnings.filterwarnings(\"ignore\", message=r\"Passing\", category=FutureWarning)\n",
        "import os \n",
        "os.environ['TF_CPP_MIN_LOG_LEVEL']='2'\n",
        "import numpy as np\n",
        "import tensorflow as tf\n",
        "from tensorflow import keras\n",
        "from tensorflow.keras import layers\n"
      ]
    },
    {
      "cell_type": "code",
      "execution_count": null,
      "metadata": {
        "colab": {
          "base_uri": "https://localhost:8080/"
        },
        "id": "v_uRm7E0LCdk",
        "outputId": "c928a03f-c873-43d5-dca8-2998608bef0a"
      },
      "outputs": [
        {
          "output_type": "stream",
          "name": "stdout",
          "text": [
            "Training Data\n",
            "  are wtf ... awww thanks !\n",
            "  leavingg to wait for kaysie to arrive myspacin itt for now ilmmthek .!\n",
            "  i wish i could go and see duffy when she comes to mamaia romania .\n",
            "  i know eep ! i can ' t wait for one more day ....\n",
            "  so scared and feeling sick . fuck ! hope someone at hr help ... wish it would be wendita or karen .\n",
            "  my b day was thurs . i wanted 2 do 5 this weekend for my b day but i guess close enough next weekend . going alone\n",
            "  e3 is in the trending topics only just noticed ive been tweeting on my iphone until now\n",
            "  where did you get him from i know someone who would love that !\n",
            "  dam just got buzzed by another huge fly ! this time it landed on my head ... not impressed\n",
            "  tomorrowwwwwwwww !!! you ' ll love tomorrow ' s news !\n",
            "\n",
            "\n",
            "Testing Data\n",
            "  nadal pulled out of wimbledon\n",
            "  yo , r u work ? at the apple store now . i need ur advice\n",
            "  fuck you rock band 2 and your fucking up freezepop songs !!\n",
            "  told u\n",
            "  has just joined twitter and has no one to follow\n",
            "  hey type your question here jonasliveonfb nick ur my fav . plzzzzzzzzz marry me i loooooooovvvvvvvvvve u\n",
            "  probably delaware skate park in ohio , but i jacked up my knee so i probably wont skate\n",
            "  seriously , i understand the term missing plane but not 1 single tiny piece of wreck ?? not even dust ? nothing ? nada ??\n",
            "  ay brian had to check u real quick , i its been a hectic week . hows everything\n",
            "  well it could have been a small one ... or just passing gas .\n"
          ]
        }
      ],
      "source": [
        "# Write your code here\n",
        "\n",
        "#1.Load data\n",
        "\n",
        "train_data=open(path_task1_train,\"r\")\n",
        "test_data=open(path_task1_test,\"r\")\n",
        "train_text=[]\n",
        "train_grnd=[]\n",
        "test_text=[]\n",
        "Line2=test_data.readline()\n",
        "\n",
        "for i in range(200000): \n",
        "    Line=train_data.readline()\n",
        "    Line=Line.strip(\"','\\n'\")\n",
        "    train_grnd.append(int(Line.split(\"+++$+++\",1)[0]))\n",
        "    train_text.append(Line.split(\"+++$+++\",1)[1])\n",
        "    \n",
        "x_train=train_text[:180000]\n",
        "y_train=train_grnd[:180000]\n",
        "\n",
        "x_test=train_text[180000:200000]\n",
        "y_test=train_grnd[180000:200000]\n",
        "\n",
        "print(\"Training Data\")\n",
        "for i in range(10):\n",
        "    print(\"\",x_train[i])\n",
        "print(\"\\n\")\n",
        "print(\"Testing Data\")\n",
        "for i in range(10):\n",
        "    print(\"\",x_test[i])\n",
        "    \n",
        "  "
      ]
    },
    {
      "cell_type": "code",
      "execution_count": null,
      "metadata": {
        "colab": {
          "base_uri": "https://localhost:8080/"
        },
        "id": "7Qdo2rR_LCdl",
        "outputId": "da287652-0c96-4610-dc80-2e57e7d27070"
      },
      "outputs": [
        {
          "output_type": "stream",
          "name": "stdout",
          "text": [
            "Word index:\n",
            " [('<UNK>', 1), ('i', 2), ('to', 3), ('the', 4), ('a', 5), ('my', 6), ('it', 7), ('and', 8), ('you', 9), ('is', 10), ('for', 11), ('in', 12), ('s', 13), ('of', 14), ('t', 15), ('that', 16), ('on', 17), ('me', 18), ('so', 19), ('have', 20)]\n",
            "\n",
            "Training sequences:\n",
            " [39, 1, 460, 82]\n",
            "\n",
            "Padded training sequences:\n",
            " [ 39   1 460  82   0   0   0   0   0   0   0   0   0   0   0   0   0   0\n",
            "   0   0   0   0   0   0   0   0   0   0   0   0   0   0   0   0   0   0\n",
            "   0]\n",
            "\n",
            "Training sequences:\n",
            " [1, 3, 142, 11, 1, 3, 1, 1, 1, 11, 29, 1]\n",
            "\n",
            "Padded training sequences:\n",
            " [  1   3 142  11   1   3   1   1   1  11  29   1   0   0   0   0   0   0\n",
            "   0   0   0   0   0   0   0   0   0   0   0   0   0   0   0   0   0   0\n",
            "   0]\n",
            "\n",
            "Training sequences:\n",
            " [2, 116, 2, 144, 41, 8, 67, 1, 86, 109, 1, 3, 1, 1]\n",
            "\n",
            "Padded training sequences:\n",
            " [  2 116   2 144  41   8  67   1  86 109   1   3   1   1   0   0   0   0\n",
            "   0   0   0   0   0   0   0   0   0   0   0   0   0   0   0   0   0   0\n",
            "   0]\n",
            "\n",
            "Padded training shape: (180000, 37)\n",
            "Training sequences data type: <class 'list'>\n",
            "Padded Training sequences data type: <class 'numpy.ndarray'>\n"
          ]
        }
      ],
      "source": [
        "# 2. Preprocess data\n",
        "\n",
        "from tensorflow.keras.preprocessing.text import Tokenizer\n",
        "from tensorflow.keras.preprocessing.sequence import pad_sequences\n",
        "from itertools import islice\n",
        "\n",
        "def take(n,iterable):\n",
        "    return list(islice(iterable,n))\n",
        "\n",
        "num_words = 700\n",
        "oov_token = '<UNK>'\n",
        "pad_type = 'post'\n",
        "trunc_type = 'post'\n",
        "\n",
        "# Tokenize our training data\n",
        "tokenizer = Tokenizer(num_words=num_words, \n",
        "                      oov_token=oov_token,\n",
        "                      filters='!\"#$%&()*+,-./:;<=>[0-9]?@[\\\\]^_`{|}~\\t\\n\\'',\n",
        "                      lower=True,\n",
        "                     )\n",
        "\n",
        "tokenizer.fit_on_texts(x_train)\n",
        "\n",
        "# Get our training data word index\n",
        "word_index = tokenizer.word_index\n",
        "\n",
        "# Encode training data sentences into sequences\n",
        "train_sequences = tokenizer.texts_to_sequences(x_train)\n",
        "\n",
        "# Get max training sequence length\n",
        "maxlen = max([len(x) for x in train_sequences])\n",
        "\n",
        "# Pad the training sequences\n",
        "train_padded = pad_sequences(train_sequences, padding=pad_type, truncating=trunc_type, maxlen=maxlen)\n",
        "\n",
        "# Output the results of our work\n",
        "n_items=take(20,word_index.items())\n",
        "print(\"Word index:\\n\",n_items )\n",
        "for i in range(3):\n",
        "    print(\"\\nTraining sequences:\\n\", train_sequences[i])\n",
        "    print(\"\\nPadded training sequences:\\n\", train_padded[i])\n",
        "print(\"\\nPadded training shape:\", train_padded.shape)\n",
        "print(\"Training sequences data type:\", type(train_sequences))\n",
        "print(\"Padded Training sequences data type:\", type(train_padded))\n"
      ]
    },
    {
      "cell_type": "code",
      "execution_count": null,
      "metadata": {
        "colab": {
          "base_uri": "https://localhost:8080/"
        },
        "id": "TRKUM9umLCdm",
        "outputId": "ce695090-dfad-4250-966d-905356f9046b"
      },
      "outputs": [
        {
          "output_type": "stream",
          "name": "stdout",
          "text": [
            "Testing sequences:\n",
            " [1, 1, 36, 14, 1]\n",
            "\n",
            "Padded testing sequences:\n",
            " [ 1  1 36 14  1  0  0  0  0  0  0  0  0  0  0  0  0  0  0  0  0  0  0  0\n",
            "  0  0  0  0  0  0  0  0  0  0  0  0  0]\n",
            "Testing sequences:\n",
            " [1, 339, 56, 49, 26, 4, 1, 667, 29, 2, 92, 215, 1]\n",
            "\n",
            "Padded testing sequences:\n",
            " [  1 339  56  49  26   4   1 667  29   2  92 215   1   0   0   0   0   0\n",
            "   0   0   0   0   0   0   0   0   0   0   0   0   0   0   0   0   0   0\n",
            "   0]\n",
            "Testing sequences:\n",
            " [507, 9, 608, 1, 58, 8, 44, 635, 33, 1, 633]\n",
            "\n",
            "Padded testing sequences:\n",
            " [507   9 608   1  58   8  44 635  33   1 633   0   0   0   0   0   0   0\n",
            "   0   0   0   0   0   0   0   0   0   0   0   0   0   0   0   0   0   0\n",
            "   0]\n",
            "\n",
            "Padded testing shape: (20000, 37)\n"
          ]
        }
      ],
      "source": [
        "test_sequences = tokenizer.texts_to_sequences(x_test)\n",
        "test_padded = pad_sequences(test_sequences, padding=pad_type, truncating=trunc_type, maxlen=maxlen)\n",
        "for i in range(3):\n",
        "    print(\"Testing sequences:\\n\", test_sequences[i])\n",
        "    print(\"\\nPadded testing sequences:\\n\", test_padded[i])\n",
        "print(\"\\nPadded testing shape:\",test_padded.shape)"
      ]
    },
    {
      "cell_type": "code",
      "source": [
        "train_padded.shape"
      ],
      "metadata": {
        "colab": {
          "base_uri": "https://localhost:8080/"
        },
        "id": "po-9BWrGU-Mt",
        "outputId": "8799667e-9f78-4901-c1e3-36275410fbf2"
      },
      "execution_count": null,
      "outputs": [
        {
          "output_type": "execute_result",
          "data": {
            "text/plain": [
              "(180000, 37)"
            ]
          },
          "metadata": {},
          "execution_count": 7
        }
      ]
    },
    {
      "cell_type": "code",
      "source": [
        "test_padded.shape"
      ],
      "metadata": {
        "colab": {
          "base_uri": "https://localhost:8080/"
        },
        "id": "SSFD8bH1V4Bs",
        "outputId": "f596ec5d-cd1b-4a78-ae77-c87e45dadf57"
      },
      "execution_count": null,
      "outputs": [
        {
          "output_type": "execute_result",
          "data": {
            "text/plain": [
              "(20000, 37)"
            ]
          },
          "metadata": {},
          "execution_count": 8
        }
      ]
    },
    {
      "cell_type": "code",
      "execution_count": null,
      "metadata": {
        "colab": {
          "base_uri": "https://localhost:8080/"
        },
        "id": "hIHn7DM0LCdn",
        "outputId": "85c47347-c92b-4abd-a1ef-f5133e72adc5"
      },
      "outputs": [
        {
          "output_type": "stream",
          "name": "stdout",
          "text": [
            " nadal pulled out of wimbledon -> [ 1  1 36 14  1  0  0  0  0  0  0  0  0  0  0  0  0  0  0  0  0  0  0  0\n",
            "  0  0  0  0  0  0  0  0  0  0  0  0  0]\n",
            " yo , r u work ? at the apple store now . i need ur advice -> [  1 339  56  49  26   4   1 667  29   2  92 215   1   0   0   0   0   0\n",
            "   0   0   0   0   0   0   0   0   0   0   0   0   0   0   0   0   0   0\n",
            "   0]\n"
          ]
        }
      ],
      "source": [
        "#Visualize data after padding\n",
        "\n",
        "for x, y in zip(x_test[0:2], test_padded[0:2]):\n",
        "      print('{} -> {}'.format(x, y))\n"
      ]
    },
    {
      "cell_type": "code",
      "execution_count": null,
      "metadata": {
        "colab": {
          "base_uri": "https://localhost:8080/"
        },
        "id": "mZhawjTPLCdn",
        "outputId": "703e462a-f540-459f-8f6f-34c4e56357c8"
      },
      "outputs": [
        {
          "output_type": "stream",
          "name": "stdout",
          "text": [
            "Model: \"sequential\"\n",
            "_________________________________________________________________\n",
            " Layer (type)                Output Shape              Param #   \n",
            "=================================================================\n",
            " embedding (Embedding)       (None, 37, 128)           89600     \n",
            "                                                                 \n",
            " dropout (Dropout)           (None, 37, 128)           0         \n",
            "                                                                 \n",
            " gru (GRU)                   (None, 37, 128)           99072     \n",
            "                                                                 \n",
            " dropout_1 (Dropout)         (None, 37, 128)           0         \n",
            "                                                                 \n",
            " simple_rnn (SimpleRNN)      (None, 64)                12352     \n",
            "                                                                 \n",
            " dropout_2 (Dropout)         (None, 64)                0         \n",
            "                                                                 \n",
            " dense (Dense)               (None, 1)                 65        \n",
            "                                                                 \n",
            "=================================================================\n",
            "Total params: 201,089\n",
            "Trainable params: 201,089\n",
            "Non-trainable params: 0\n",
            "_________________________________________________________________\n"
          ]
        }
      ],
      "source": [
        "#3. Build RNN model\n",
        "import tensorflow as tf\n",
        "from tensorflow import keras\n",
        "from tensorflow.keras import layers, regularizers\n",
        "\n",
        "model = keras.Sequential()\n",
        "model.add(layers.Embedding(700,128,input_length=37))\n",
        "model.add(layers.Dropout(0.2))\n",
        "model.add(layers.GRU(128,activation=\"tanh\", return_sequences=True,kernel_regularizer=keras.regularizers.l2(0.001)))\n",
        "model.add(layers.Dropout(0.2))\n",
        "model.add(layers.SimpleRNN(64,kernel_regularizer=keras.regularizers.l2(0.001)))\n",
        "model.add(layers.Dropout(0.2))\n",
        "model.add(layers.Dense(1,activation='sigmoid',kernel_regularizer=keras.regularizers.l2(0.001)))\n",
        "model.summary()"
      ]
    },
    {
      "cell_type": "code",
      "execution_count": null,
      "metadata": {
        "colab": {
          "base_uri": "https://localhost:8080/",
          "height": 758
        },
        "id": "Ndr6JPMnLCdo",
        "outputId": "b76c91b8-e416-44ea-ff45-adcc45b3906c"
      },
      "outputs": [
        {
          "output_type": "execute_result",
          "data": {
            "text/plain": [
              "<IPython.core.display.Image object>"
            ],
            "image/png": "[encoded data removed]"
          },
          "metadata": {},
          "execution_count": 11
        }
      ],
      "source": [
        "#Visualize model \n",
        "\n",
        "\n",
        "tf.keras.utils.plot_model(\n",
        "    model, to_file='model1.png', show_shapes=False, \n",
        "    show_layer_names=True, rankdir='TB')"
      ]
    },
    {
      "cell_type": "code",
      "execution_count": null,
      "metadata": {
        "colab": {
          "base_uri": "https://localhost:8080/"
        },
        "id": "R-C1WNrELCdo",
        "outputId": "5edd7ef6-1534-412e-f9d1-8af7a902a6f3"
      },
      "outputs": [
        {
          "output_type": "stream",
          "name": "stdout",
          "text": [
            "Epoch 1/20\n"
          ]
        },
        {
          "output_type": "stream",
          "name": "stderr",
          "text": [
            "/usr/local/lib/python3.7/dist-packages/tensorflow/python/util/dispatch.py:1082: UserWarning: \"`binary_crossentropy` received `from_logits=True`, but the `output` argument was produced by a sigmoid or softmax activation and thus does not represent logits. Was this intended?\"\n",
            "  return dispatch_target(*args, **kwargs)\n"
          ]
        },
        {
          "output_type": "stream",
          "name": "stdout",
          "text": [
            "1000/1000 [==============================] - 60s 53ms/step - loss: 0.7491 - accuracy: 0.6965 - val_loss: 0.6524 - val_accuracy: 0.7418\n",
            "Epoch 2/20\n",
            "1000/1000 [==============================] - 51s 51ms/step - loss: 0.6326 - accuracy: 0.7429 - val_loss: 0.6087 - val_accuracy: 0.7516\n",
            "Epoch 3/20\n",
            "1000/1000 [==============================] - 51s 51ms/step - loss: 0.6012 - accuracy: 0.7497 - val_loss: 0.5920 - val_accuracy: 0.7529\n",
            "Epoch 4/20\n",
            "1000/1000 [==============================] - 51s 51ms/step - loss: 0.5802 - accuracy: 0.7532 - val_loss: 0.5744 - val_accuracy: 0.7540\n",
            "Epoch 5/20\n",
            "1000/1000 [==============================] - 50s 50ms/step - loss: 0.5636 - accuracy: 0.7545 - val_loss: 0.5606 - val_accuracy: 0.7552\n",
            "Epoch 6/20\n",
            "1000/1000 [==============================] - 51s 51ms/step - loss: 0.5507 - accuracy: 0.7563 - val_loss: 0.5451 - val_accuracy: 0.7552\n",
            "Epoch 7/20\n",
            "1000/1000 [==============================] - 52s 52ms/step - loss: 0.5397 - accuracy: 0.7580 - val_loss: 0.5368 - val_accuracy: 0.7587\n",
            "Epoch 8/20\n",
            "1000/1000 [==============================] - 51s 51ms/step - loss: 0.5313 - accuracy: 0.7585 - val_loss: 0.5317 - val_accuracy: 0.7577\n",
            "Epoch 9/20\n",
            "1000/1000 [==============================] - 51s 51ms/step - loss: 0.5232 - accuracy: 0.7607 - val_loss: 0.5267 - val_accuracy: 0.7595\n",
            "Epoch 10/20\n",
            "1000/1000 [==============================] - 51s 51ms/step - loss: 0.5175 - accuracy: 0.7606 - val_loss: 0.5210 - val_accuracy: 0.7552\n",
            "Epoch 11/20\n",
            "1000/1000 [==============================] - 51s 51ms/step - loss: 0.5125 - accuracy: 0.7613 - val_loss: 0.5152 - val_accuracy: 0.7588\n",
            "Epoch 12/20\n",
            "1000/1000 [==============================] - 51s 51ms/step - loss: 0.5082 - accuracy: 0.7620 - val_loss: 0.5124 - val_accuracy: 0.7588\n",
            "Epoch 13/20\n",
            "1000/1000 [==============================] - 51s 51ms/step - loss: 0.5045 - accuracy: 0.7632 - val_loss: 0.5117 - val_accuracy: 0.7567\n",
            "Epoch 14/20\n",
            "1000/1000 [==============================] - 51s 51ms/step - loss: 0.5002 - accuracy: 0.7643 - val_loss: 0.5139 - val_accuracy: 0.7592\n",
            "Epoch 15/20\n",
            "1000/1000 [==============================] - 51s 51ms/step - loss: 0.4977 - accuracy: 0.7642 - val_loss: 0.5049 - val_accuracy: 0.7585\n",
            "Epoch 16/20\n",
            "1000/1000 [==============================] - 51s 51ms/step - loss: 0.4946 - accuracy: 0.7666 - val_loss: 0.5019 - val_accuracy: 0.7591\n",
            "Epoch 17/20\n",
            "1000/1000 [==============================] - 51s 51ms/step - loss: 0.4921 - accuracy: 0.7673 - val_loss: 0.5079 - val_accuracy: 0.7512\n",
            "Epoch 18/20\n",
            "1000/1000 [==============================] - 52s 52ms/step - loss: 0.4898 - accuracy: 0.7676 - val_loss: 0.5007 - val_accuracy: 0.7574\n",
            "Epoch 19/20\n",
            "1000/1000 [==============================] - 51s 51ms/step - loss: 0.4875 - accuracy: 0.7684 - val_loss: 0.5036 - val_accuracy: 0.7584\n",
            "Epoch 20/20\n",
            "1000/1000 [==============================] - 51s 51ms/step - loss: 0.4858 - accuracy: 0.7693 - val_loss: 0.4959 - val_accuracy: 0.7580\n"
          ]
        }
      ],
      "source": [
        "#4. Train the model\n",
        "model.compile(loss=keras.losses.BinaryCrossentropy(from_logits=True),\n",
        "              optimizer = keras.optimizers.Adam(learning_rate=0.0001),\n",
        "              metrics=[\"accuracy\"],)\n",
        "\n",
        "train_padded=np.array(train_padded)\n",
        "test_padded=np.array(test_padded)\n",
        "y_train=np.array(y_train)\n",
        "y_test=np.array(y_test)\n",
        "\n",
        "history = model.fit(train_padded, y_train, validation_data=(test_padded,y_test),batch_size=180, shuffle=True,epochs=20,verbose=1)"
      ]
    },
    {
      "cell_type": "code",
      "execution_count": null,
      "metadata": {
        "colab": {
          "base_uri": "https://localhost:8080/",
          "height": 541
        },
        "id": "UFHkgsbZLCdo",
        "outputId": "81586d33-fd8f-47d2-dd8e-55334e256007"
      },
      "outputs": [
        {
          "output_type": "display_data",
          "data": {
            "text/plain": [
              "<Figure size 432x288 with 1 Axes>"
            ],
            "image/png": "[encoded data removed]"
          },
          "metadata": {
            "needs_background": "light"
          }
        },
        {
          "output_type": "display_data",
          "data": {
            "text/plain": [
              "<Figure size 432x288 with 1 Axes>"
            ],
            "image/png": "[encoded data removed]"
          },
          "metadata": {
            "needs_background": "light"
          }
        }
      ],
      "source": [
        "# TODO: visualize the training history including accuracy curves and loss curves of your optimal model\n",
        "import matplotlib.pyplot as plt\n",
        "\n",
        "plt.plot(history.history['accuracy'], label='Train_accuracy')\n",
        "plt.plot(history.history['val_accuracy'], label='validation_accuracy')\n",
        "plt.xlabel('Epoch')\n",
        "plt.ylabel('Accuracy')\n",
        "\n",
        "plt.legend(loc='upper right')\n",
        "plt.show()\n",
        "\n",
        "plt.plot(history.history['loss'], label='Train_loss')\n",
        "plt.plot(history.history['val_loss'], label='validation_loss')\n",
        "plt.xlabel('Epoch')\n",
        "plt.ylabel('Loss')\n",
        "\n",
        "plt.legend(loc='upper right')\n",
        "plt.show()\n"
      ]
    },
    {
      "cell_type": "code",
      "execution_count": null,
      "metadata": {
        "id": "CzyZRb5xLCdp",
        "colab": {
          "base_uri": "https://localhost:8080/"
        },
        "outputId": "e329c4a7-73cf-42b5-fb70-62d8d2a76b65"
      },
      "outputs": [
        {
          "output_type": "stream",
          "name": "stdout",
          "text": [
            "Testing sequences:\n",
            " [6, 510, 676, 196, 349, 40, 565, 88, 676, 7]\n",
            "\n",
            "Padded testing sequences:\n",
            " [  6 510 676 196 349  40 565  88 676   7   0   0   0   0   0   0   0   0\n",
            "   0   0   0   0   0   0   0   0   0   0   0   0   0   0   0   0   0   0\n",
            "   0]\n",
            "Testing sequences:\n",
            " [226, 95, 34, 1, 236, 14, 1, 1, 208, 62, 1, 25, 1, 36, 14, 150, 1, 4, 1, 14, 1, 61, 1, 537]\n",
            "\n",
            "Padded testing sequences:\n",
            " [226  95  34   1 236  14   1   1 208  62   1  25   1  36  14 150   1   4\n",
            "   1  14   1  61   1 537   0   0   0   0   0   0   0   0   0   0   0   0\n",
            "   0]\n",
            "Testing sequences:\n",
            " [397, 621, 71, 96, 19, 397]\n",
            "\n",
            "Padded testing sequences:\n",
            " [397 621  71  96  19 397   0   0   0   0   0   0   0   0   0   0   0   0\n",
            "   0   0   0   0   0   0   0   0   0   0   0   0   0   0   0   0   0   0\n",
            "   0]\n",
            "\n",
            "Padded testing shape: (200000, 37)\n"
          ]
        }
      ],
      "source": [
        "# Preprocessing of text data\n",
        "test_data=open(path_task1_test,\"r\")\n",
        "Line2=test_data.readline()\n",
        "\n",
        "test_text=[]\n",
        "for i in range(200000): \n",
        "    Line2=test_data.readline() \n",
        "    Line2=Line2.strip(\"','\\n'\")\n",
        "    test_text.append(Line2.split(\",\",1)[1])\n",
        "    \n",
        "test_sequences = tokenizer.texts_to_sequences(test_text)\n",
        "test_padded = pad_sequences(test_sequences, padding=pad_type, truncating=trunc_type, maxlen=37)\n",
        "for i in range(3):\n",
        "    print(\"Testing sequences:\\n\", test_sequences[i])\n",
        "    print(\"\\nPadded testing sequences:\\n\", test_padded[i])\n",
        "print(\"\\nPadded testing shape:\",test_padded.shape)\n"
      ]
    },
    {
      "cell_type": "code",
      "execution_count": null,
      "metadata": {
        "id": "qV0skMQJLCdp"
      },
      "outputs": [],
      "source": [
        "# Predicting the test output\n",
        "predictions=model.predict(test_padded)\n"
      ]
    },
    {
      "cell_type": "code",
      "execution_count": null,
      "metadata": {
        "id": "BIkjnn0eLCdp"
      },
      "outputs": [],
      "source": [
        "# saving the file\n",
        "\n",
        "import csv\n",
        "\n",
        "result=open(\"Result.csv\",'w')\n",
        "writer=csv.writer(result)\n",
        "header = ['id', 'Text']\n",
        "writer.writerow(header)\n",
        "for x, y in zip(predictions, test_text):\n",
        "    res=[str(round(x[0])),str(y)]\n",
        "    writer.writerow(res)\n",
        "result.close()\n"
      ]
    },
    {
      "cell_type": "code",
      "source": [
        ""
      ],
      "metadata": {
        "id": "liApMN8K0YyL"
      },
      "execution_count": null,
      "outputs": []
    },
    {
      "cell_type": "markdown",
      "metadata": {
        "id": "KnXTy7Xz5ScT"
      },
      "source": [
        "## Task 2: Anomaly Detection"
      ]
    },
    {
      "cell_type": "markdown",
      "metadata": {
        "id": "JR0YVG2sqTSV"
      },
      "source": [
        "In manufacturing industries, the anomaly detection technique is applied to predict the abnormal activities of machines based on the data read from sensors. In machine learning and data mining, anomaly detection is the task of identifying the rare items, events, or observations that are suspicious and seem different from the majority of the data. In this task, you will predict the possible failure of the system based on the temperature data. And this failure can be detected by check if they follow the trend of the majority of the data.\n",
        "\n",
        "---\n",
        "\n",
        "**Dataset**\n",
        "\n",
        "The given dataset (`ambient_temperature_system_failure.csv`) is a part of Numenta Anomaly Benchmark (NAB) dataset, which is a novel benchmark for evaluating machine learning algorithms in anomaly detection.\n",
        "\n",
        "**Tasks**\n",
        "\n",
        "Because the labels have not been given, you will need to use a LSTM based model to capture the trend of the feature for majority of the data. First, extract $n_x$ features from each of the raw data point. Second, create a sliding window with length $l$. Third, fomulate LSTM taking a matrix of shape $l \\times n_x$ as the input to predict the temperature value of the next time step $l+1$. Last, compare the predicted result and the real data and find out abnormal points where the difference between these two values are larger than the threshold. \n",
        "\n",
        "For instance, if we want to extract 3 features ($n_x=3$), and set the sliding window length to 100 ($l=100$). Then LSTM will take the first 100 (e.g., $[0:100]$) time step data as the input to predict the temperature value of the next time step (e.g., 100). The shape of the input will be $100 \\times 3$, and shape of the output will be a single number.\n",
        "\n",
        "1. Load data\n",
        "    - Read the CSV file.\n",
        "    - Draw a curve to visualize the time-series data.\n",
        "2. Preprocess data\n",
        "    - The raw data of temperature is the degree Fahrenheit, you will need to convert it into degree Celcius.\n",
        "    - Use Pandas package convert string timestamp data into the datatime data. Click [here](https://pandas.pydata.org/pandas-docs/stable/reference/api/pandas.to_datetime.html) for details.\n",
        "3. Feature Engineering\n",
        "    - We will use datatime data to generate four features: hours, day or night, day of the week, weekday or weekends.\n",
        "    - Hour: convert datetime data into hours. The result of your processed data will be [0, 1, 2, ..., 22, 23, 0, 1, ..., 22, 23]. Check [here](https://pandas.pydata.org/pandas-docs/stable/reference/api/pandas.Series.dt.hour.html).\n",
        "    - Day or night: this will be a binary data. 7:00-22:00 will be day time, the rest will be night.\n",
        "    - Day of the week: convert datetime data into day of the week. The result of your processed data will be [0, 1, 2, 3, 4, 5, 6, 0, 1, 2, 3, 4, 5, 6 ...]. Click [here](https://pandas.pydata.org/pandas-docs/stable/reference/api/pandas.Series.dt.dayofweek.html) for more information.\n",
        "    - Workday or weekend: this will be a binary data. Monday to Friday will be workdays, Saturday and Sunday are weekend.\n",
        "    \n",
        "4. Prepare training and testing data\n",
        "    - Split the dataset into training set and test set.\n",
        "    - Min-max normalization.\n",
        "    - Generate sliding window (similar to the last task of HW1) data.\n",
        "3. Build LSTM model\n",
        "    - Build an LSTM model using TensorFlow 2.x.\n",
        "    - Visualize your model.\n",
        "4. Train model\n",
        "    - Initialize hyperparameters.\n",
        "    - Train the model.\n",
        "    - Evaluate the trained model on the test data.\n",
        "    - Visualize the performance including training loss and test loss.\n",
        "5. Find anomalies\n",
        "    - Specify the threshold and predict anomalies on testing dataset.\n",
        "    - Visualize the anomalies.\n"
      ]
    },
    {
      "cell_type": "code",
      "execution_count": null,
      "metadata": {
        "id": "jj58i84SAdmb",
        "outputId": "8fd50da5-0443-4307-8880-bb9c9e39424f",
        "colab": {
          "base_uri": "https://localhost:8080/",
          "height": 310
        }
      },
      "outputs": [
        {
          "output_type": "execute_result",
          "data": {
            "text/plain": [
              "<matplotlib.axes._subplots.AxesSubplot at 0x7f280010e9d0>"
            ]
          },
          "metadata": {},
          "execution_count": 17
        },
        {
          "output_type": "display_data",
          "data": {
            "text/plain": [
              "<Figure size 432x288 with 1 Axes>"
            ],
            "image/png": "[encoded data removed]"
          },
          "metadata": {
            "needs_background": "light"
          }
        }
      ],
      "source": [
        "# Write you code here\n",
        "import warnings\n",
        "warnings.filterwarnings(\"ignore\", message=r\"Passing\", category=FutureWarning)\n",
        "import os \n",
        "os.environ['TF_CPP_MIN_LOG_LEVEL']='2'\n",
        "import csv\n",
        "import numpy as np\n",
        "import matplotlib.pyplot as plt\n",
        "import pandas as pd\n",
        "import tensorflow as tf\n",
        "from tensorflow import keras\n",
        "from tensorflow.keras import layers\n",
        "\n",
        "# TODO: read dataset\n",
        "file = pd.read_csv(path_task2,\n",
        "                   parse_dates=True, \n",
        "                   index_col='timestamp')\n",
        "file.head()\n",
        "file['value'].plot(legend=True,y='Temperature Values in Farenheit',title='Time-series Data')\n"
      ]
    },
    {
      "cell_type": "code",
      "execution_count": null,
      "metadata": {
        "id": "cyKEck-tLCdq"
      },
      "outputs": [],
      "source": [
        "# Changing Farenhiet to Degree celsius\n",
        "\n",
        "file['value'] = round((file['value']-32)*(5/9),5)\n",
        "file.to_csv('ambient_temperature_system_failure_2.csv')"
      ]
    },
    {
      "cell_type": "code",
      "execution_count": null,
      "metadata": {
        "id": "iHfbjYdPLCdr",
        "outputId": "ce6a990c-69b1-47d6-cd7d-736fc597a1cd",
        "colab": {
          "base_uri": "https://localhost:8080/",
          "height": 423
        }
      },
      "outputs": [
        {
          "output_type": "execute_result",
          "data": {
            "text/plain": [
              "        value  hour  days/night  weekend/weekday  daysofweek\n",
              "0     21.0449     0           0                1           3\n",
              "1     21.7890     1           0                1           3\n",
              "2     21.5988     2           0                1           3\n",
              "3     20.5330     3           0                1           3\n",
              "4     20.7131     4           0                1           3\n",
              "...       ...   ...         ...              ...         ...\n",
              "7262  22.4279    11           1                1           2\n",
              "7263  22.3183    12           1                1           2\n",
              "7264  22.2481    13           1                1           2\n",
              "7265  22.1251    14           1                1           2\n",
              "7266  22.5467    15           1                1           2\n",
              "\n",
              "[7267 rows x 5 columns]"
            ],
            "text/html": [
              "\n",
              "  <div id=\"df-18e6caaf-e5e2-4473-86d4-07f4b80e6b8b\">\n",
              "    <div class=\"colab-df-container\">\n",
              "      <div>\n",
              "<style scoped>\n",
              "    .dataframe tbody tr th:only-of-type {\n",
              "        vertical-align: middle;\n",
              "    }\n",
              "\n",
              "    .dataframe tbody tr th {\n",
              "        vertical-align: top;\n",
              "    }\n",
              "\n",
              "    .dataframe thead th {\n",
              "        text-align: right;\n",
              "    }\n",
              "</style>\n",
              "<table border=\"1\" class=\"dataframe\">\n",
              "  <thead>\n",
              "    <tr style=\"text-align: right;\">\n",
              "      <th></th>\n",
              "      <th>value</th>\n",
              "      <th>hour</th>\n",
              "      <th>days/night</th>\n",
              "      <th>weekend/weekday</th>\n",
              "      <th>daysofweek</th>\n",
              "    </tr>\n",
              "  </thead>\n",
              "  <tbody>\n",
              "    <tr>\n",
              "      <th>0</th>\n",
              "      <td>21.0449</td>\n",
              "      <td>0</td>\n",
              "      <td>0</td>\n",
              "      <td>1</td>\n",
              "      <td>3</td>\n",
              "    </tr>\n",
              "    <tr>\n",
              "      <th>1</th>\n",
              "      <td>21.7890</td>\n",
              "      <td>1</td>\n",
              "      <td>0</td>\n",
              "      <td>1</td>\n",
              "      <td>3</td>\n",
              "    </tr>\n",
              "    <tr>\n",
              "      <th>2</th>\n",
              "      <td>21.5988</td>\n",
              "      <td>2</td>\n",
              "      <td>0</td>\n",
              "      <td>1</td>\n",
              "      <td>3</td>\n",
              "    </tr>\n",
              "    <tr>\n",
              "      <th>3</th>\n",
              "      <td>20.5330</td>\n",
              "      <td>3</td>\n",
              "      <td>0</td>\n",
              "      <td>1</td>\n",
              "      <td>3</td>\n",
              "    </tr>\n",
              "    <tr>\n",
              "      <th>4</th>\n",
              "      <td>20.7131</td>\n",
              "      <td>4</td>\n",
              "      <td>0</td>\n",
              "      <td>1</td>\n",
              "      <td>3</td>\n",
              "    </tr>\n",
              "    <tr>\n",
              "      <th>...</th>\n",
              "      <td>...</td>\n",
              "      <td>...</td>\n",
              "      <td>...</td>\n",
              "      <td>...</td>\n",
              "      <td>...</td>\n",
              "    </tr>\n",
              "    <tr>\n",
              "      <th>7262</th>\n",
              "      <td>22.4279</td>\n",
              "      <td>11</td>\n",
              "      <td>1</td>\n",
              "      <td>1</td>\n",
              "      <td>2</td>\n",
              "    </tr>\n",
              "    <tr>\n",
              "      <th>7263</th>\n",
              "      <td>22.3183</td>\n",
              "      <td>12</td>\n",
              "      <td>1</td>\n",
              "      <td>1</td>\n",
              "      <td>2</td>\n",
              "    </tr>\n",
              "    <tr>\n",
              "      <th>7264</th>\n",
              "      <td>22.2481</td>\n",
              "      <td>13</td>\n",
              "      <td>1</td>\n",
              "      <td>1</td>\n",
              "      <td>2</td>\n",
              "    </tr>\n",
              "    <tr>\n",
              "      <th>7265</th>\n",
              "      <td>22.1251</td>\n",
              "      <td>14</td>\n",
              "      <td>1</td>\n",
              "      <td>1</td>\n",
              "      <td>2</td>\n",
              "    </tr>\n",
              "    <tr>\n",
              "      <th>7266</th>\n",
              "      <td>22.5467</td>\n",
              "      <td>15</td>\n",
              "      <td>1</td>\n",
              "      <td>1</td>\n",
              "      <td>2</td>\n",
              "    </tr>\n",
              "  </tbody>\n",
              "</table>\n",
              "<p>7267 rows × 5 columns</p>\n",
              "</div>\n",
              "      <button class=\"colab-df-convert\" onclick=\"convertToInteractive('df-18e6caaf-e5e2-4473-86d4-07f4b80e6b8b')\"\n",
              "              title=\"Convert this dataframe to an interactive table.\"\n",
              "              style=\"display:none;\">\n",
              "        \n",
              "  <svg xmlns=\"http://www.w3.org/2000/svg\" height=\"24px\"viewBox=\"0 0 24 24\"\n",
              "       width=\"24px\">\n",
              "    <path d=\"M0 0h24v24H0V0z\" fill=\"none\"/>\n",
              "    <path d=\"M18.56 5.44l.94 2.06.94-2.06 2.06-.94-2.06-.94-.94-2.06-.94 2.06-2.06.94zm-11 1L8.5 8.5l.94-2.06 2.06-.94-2.06-.94L8.5 2.5l-.94 2.06-2.06.94zm10 10l.94 2.06.94-2.06 2.06-.94-2.06-.94-.94-2.06-.94 2.06-2.06.94z\"/><path d=\"M17.41 7.96l-1.37-1.37c-.4-.4-.92-.59-1.43-.59-.52 0-1.04.2-1.43.59L10.3 9.45l-7.72 7.72c-.78.78-.78 2.05 0 2.83L4 21.41c.39.39.9.59 1.41.59.51 0 1.02-.2 1.41-.59l7.78-7.78 2.81-2.81c.8-.78.8-2.07 0-2.86zM5.41 20L4 18.59l7.72-7.72 1.47 1.35L5.41 20z\"/>\n",
              "  </svg>\n",
              "      </button>\n",
              "      \n",
              "  <style>\n",
              "    .colab-df-container {\n",
              "      display:flex;\n",
              "      flex-wrap:wrap;\n",
              "      gap: 12px;\n",
              "    }\n",
              "\n",
              "    .colab-df-convert {\n",
              "      background-color: #E8F0FE;\n",
              "      border: none;\n",
              "      border-radius: 50%;\n",
              "      cursor: pointer;\n",
              "      display: none;\n",
              "      fill: #1967D2;\n",
              "      height: 32px;\n",
              "      padding: 0 0 0 0;\n",
              "      width: 32px;\n",
              "    }\n",
              "\n",
              "    .colab-df-convert:hover {\n",
              "      background-color: #E2EBFA;\n",
              "      box-shadow: 0px 1px 2px rgba(60, 64, 67, 0.3), 0px 1px 3px 1px rgba(60, 64, 67, 0.15);\n",
              "      fill: #174EA6;\n",
              "    }\n",
              "\n",
              "    [theme=dark] .colab-df-convert {\n",
              "      background-color: #3B4455;\n",
              "      fill: #D2E3FC;\n",
              "    }\n",
              "\n",
              "    [theme=dark] .colab-df-convert:hover {\n",
              "      background-color: #434B5C;\n",
              "      box-shadow: 0px 1px 3px 1px rgba(0, 0, 0, 0.15);\n",
              "      filter: drop-shadow(0px 1px 2px rgba(0, 0, 0, 0.3));\n",
              "      fill: #FFFFFF;\n",
              "    }\n",
              "  </style>\n",
              "\n",
              "      <script>\n",
              "        const buttonEl =\n",
              "          document.querySelector('#df-18e6caaf-e5e2-4473-86d4-07f4b80e6b8b button.colab-df-convert');\n",
              "        buttonEl.style.display =\n",
              "          google.colab.kernel.accessAllowed ? 'block' : 'none';\n",
              "\n",
              "        async function convertToInteractive(key) {\n",
              "          const element = document.querySelector('#df-18e6caaf-e5e2-4473-86d4-07f4b80e6b8b');\n",
              "          const dataTable =\n",
              "            await google.colab.kernel.invokeFunction('convertToInteractive',\n",
              "                                                     [key], {});\n",
              "          if (!dataTable) return;\n",
              "\n",
              "          const docLinkHtml = 'Like what you see? Visit the ' +\n",
              "            '<a target=\"_blank\" href=https://colab.research.google.com/notebooks/data_table.ipynb>data table notebook</a>'\n",
              "            + ' to learn more about interactive tables.';\n",
              "          element.innerHTML = '';\n",
              "          dataTable['output_type'] = 'display_data';\n",
              "          await google.colab.output.renderOutput(dataTable, element);\n",
              "          const docLink = document.createElement('div');\n",
              "          docLink.innerHTML = docLinkHtml;\n",
              "          element.appendChild(docLink);\n",
              "        }\n",
              "      </script>\n",
              "    </div>\n",
              "  </div>\n",
              "  "
            ]
          },
          "metadata": {},
          "execution_count": 19
        }
      ],
      "source": [
        "# Feature Engineering\n",
        "\n",
        "file= pd.read_csv('ambient_temperature_system_failure_2.csv',\n",
        "                   parse_dates=True)\n",
        "\n",
        "\n",
        "\n",
        "file['value']=np.round(file['value'],decimals = 4)\n",
        "file.to_csv('out.csv',index=False)  \n",
        "\n",
        "file['timestamp']=pd.to_datetime(file['timestamp'])\n",
        "\n",
        "datetime_series = pd.Series(file['timestamp'])\n",
        "\n",
        "# Hour information \n",
        "file[\"hour\"]=file['timestamp'].dt.hour\n",
        "\n",
        "#Day=1 and Night=0 binary data\n",
        "array=[]\n",
        "for elements in datetime_series.dt.hour:\n",
        "    if elements>6 and elements<23:\n",
        "        array.append(1)\n",
        "    else:\n",
        "        array.append(0)\n",
        "\n",
        "file.insert(3,column=\"days/night\",value=array)\n",
        "\n",
        "# Adding days of week \n",
        "\n",
        "file.insert(4,column=\"daysofweek\",value=datetime_series.dt.dayofweek)\n",
        "\n",
        "\n",
        "# Adding weekday and weekends information\n",
        "# datetime_series.dt.weekday outputs -->> Monday=0, Sunday=6.\n",
        "\n",
        "#  Monday-friday = 1 and saturday and sunday =0\n",
        "array=[]\n",
        "for elements in datetime_series.dt.weekday:\n",
        "    if elements==5 or elements==6:\n",
        "        array.append(0)\n",
        "    else:\n",
        "        array.append(1)\n",
        "file.insert(4,column=\"weekend/weekday\",value=array)\n",
        "file.drop('timestamp', inplace=True, axis=1)\n",
        "file\n"
      ]
    },
    {
      "cell_type": "code",
      "execution_count": null,
      "metadata": {
        "id": "cuGV8iKELCdr",
        "outputId": "5b13a900-d680-471a-b154-42e49656052d",
        "colab": {
          "base_uri": "https://localhost:8080/"
        }
      },
      "outputs": [
        {
          "output_type": "execute_result",
          "data": {
            "text/plain": [
              "['value', 'hour', 'days/night', 'weekend/weekday', 'daysofweek']"
            ]
          },
          "metadata": {},
          "execution_count": 20
        }
      ],
      "source": [
        "# Normalizing using min max method\n",
        "\n",
        "normalized_data=(file-file.min())/(file.max()-file.min())\n",
        "labels=list(normalized_data.keys())\n",
        "labels\n"
      ]
    },
    {
      "cell_type": "code",
      "execution_count": null,
      "metadata": {
        "id": "PIH2oKZdLCdr",
        "outputId": "9e63068b-854c-4c04-c84a-63fe350a5857",
        "colab": {
          "base_uri": "https://localhost:8080/"
        }
      },
      "outputs": [
        {
          "output_type": "stream",
          "name": "stdout",
          "text": [
            "Size of train data :  (5813, 5)\n",
            "Size of test data :  (1454, 5)\n"
          ]
        }
      ],
      "source": [
        "#Split training and testing dataset (80:20)\n",
        "\n",
        "n = len(normalized_data)\n",
        "training_data= normalized_data[0:int(n*0.8)]\n",
        "testing_data= normalized_data[int(n*0.8):]\n",
        "print(\"Size of train data : \",training_data.shape)\n",
        "print(\"Size of test data : \",testing_data.shape)\n"
      ]
    },
    {
      "cell_type": "code",
      "source": [
        "testing_data"
      ],
      "metadata": {
        "colab": {
          "base_uri": "https://localhost:8080/",
          "height": 423
        },
        "id": "jpuPk1c_HNDX",
        "outputId": "878d5b1b-a59f-45d8-a763-9d0273580daa"
      },
      "execution_count": null,
      "outputs": [
        {
          "output_type": "execute_result",
          "data": {
            "text/plain": [
              "         value      hour  days/night  weekend/weekday  daysofweek\n",
              "5813  0.303290  0.304348         1.0              1.0    0.666667\n",
              "5814  0.306119  0.347826         1.0              1.0    0.666667\n",
              "5815  0.374258  0.391304         1.0              1.0    0.666667\n",
              "5816  0.406949  0.434783         1.0              1.0    0.666667\n",
              "5817  0.405040  0.478261         1.0              1.0    0.666667\n",
              "...        ...       ...         ...              ...         ...\n",
              "7262  0.518404  0.478261         1.0              1.0    0.333333\n",
              "7263  0.511545  0.521739         1.0              1.0    0.333333\n",
              "7264  0.507153  0.565217         1.0              1.0    0.333333\n",
              "7265  0.499456  0.608696         1.0              1.0    0.333333\n",
              "7266  0.525838  0.652174         1.0              1.0    0.333333\n",
              "\n",
              "[1454 rows x 5 columns]"
            ],
            "text/html": [
              "\n",
              "  <div id=\"df-116139fc-064b-4d05-bfa9-67d530c9caf8\">\n",
              "    <div class=\"colab-df-container\">\n",
              "      <div>\n",
              "<style scoped>\n",
              "    .dataframe tbody tr th:only-of-type {\n",
              "        vertical-align: middle;\n",
              "    }\n",
              "\n",
              "    .dataframe tbody tr th {\n",
              "        vertical-align: top;\n",
              "    }\n",
              "\n",
              "    .dataframe thead th {\n",
              "        text-align: right;\n",
              "    }\n",
              "</style>\n",
              "<table border=\"1\" class=\"dataframe\">\n",
              "  <thead>\n",
              "    <tr style=\"text-align: right;\">\n",
              "      <th></th>\n",
              "      <th>value</th>\n",
              "      <th>hour</th>\n",
              "      <th>days/night</th>\n",
              "      <th>weekend/weekday</th>\n",
              "      <th>daysofweek</th>\n",
              "    </tr>\n",
              "  </thead>\n",
              "  <tbody>\n",
              "    <tr>\n",
              "      <th>5813</th>\n",
              "      <td>0.303290</td>\n",
              "      <td>0.304348</td>\n",
              "      <td>1.0</td>\n",
              "      <td>1.0</td>\n",
              "      <td>0.666667</td>\n",
              "    </tr>\n",
              "    <tr>\n",
              "      <th>5814</th>\n",
              "      <td>0.306119</td>\n",
              "      <td>0.347826</td>\n",
              "      <td>1.0</td>\n",
              "      <td>1.0</td>\n",
              "      <td>0.666667</td>\n",
              "    </tr>\n",
              "    <tr>\n",
              "      <th>5815</th>\n",
              "      <td>0.374258</td>\n",
              "      <td>0.391304</td>\n",
              "      <td>1.0</td>\n",
              "      <td>1.0</td>\n",
              "      <td>0.666667</td>\n",
              "    </tr>\n",
              "    <tr>\n",
              "      <th>5816</th>\n",
              "      <td>0.406949</td>\n",
              "      <td>0.434783</td>\n",
              "      <td>1.0</td>\n",
              "      <td>1.0</td>\n",
              "      <td>0.666667</td>\n",
              "    </tr>\n",
              "    <tr>\n",
              "      <th>5817</th>\n",
              "      <td>0.405040</td>\n",
              "      <td>0.478261</td>\n",
              "      <td>1.0</td>\n",
              "      <td>1.0</td>\n",
              "      <td>0.666667</td>\n",
              "    </tr>\n",
              "    <tr>\n",
              "      <th>...</th>\n",
              "      <td>...</td>\n",
              "      <td>...</td>\n",
              "      <td>...</td>\n",
              "      <td>...</td>\n",
              "      <td>...</td>\n",
              "    </tr>\n",
              "    <tr>\n",
              "      <th>7262</th>\n",
              "      <td>0.518404</td>\n",
              "      <td>0.478261</td>\n",
              "      <td>1.0</td>\n",
              "      <td>1.0</td>\n",
              "      <td>0.333333</td>\n",
              "    </tr>\n",
              "    <tr>\n",
              "      <th>7263</th>\n",
              "      <td>0.511545</td>\n",
              "      <td>0.521739</td>\n",
              "      <td>1.0</td>\n",
              "      <td>1.0</td>\n",
              "      <td>0.333333</td>\n",
              "    </tr>\n",
              "    <tr>\n",
              "      <th>7264</th>\n",
              "      <td>0.507153</td>\n",
              "      <td>0.565217</td>\n",
              "      <td>1.0</td>\n",
              "      <td>1.0</td>\n",
              "      <td>0.333333</td>\n",
              "    </tr>\n",
              "    <tr>\n",
              "      <th>7265</th>\n",
              "      <td>0.499456</td>\n",
              "      <td>0.608696</td>\n",
              "      <td>1.0</td>\n",
              "      <td>1.0</td>\n",
              "      <td>0.333333</td>\n",
              "    </tr>\n",
              "    <tr>\n",
              "      <th>7266</th>\n",
              "      <td>0.525838</td>\n",
              "      <td>0.652174</td>\n",
              "      <td>1.0</td>\n",
              "      <td>1.0</td>\n",
              "      <td>0.333333</td>\n",
              "    </tr>\n",
              "  </tbody>\n",
              "</table>\n",
              "<p>1454 rows × 5 columns</p>\n",
              "</div>\n",
              "      <button class=\"colab-df-convert\" onclick=\"convertToInteractive('df-116139fc-064b-4d05-bfa9-67d530c9caf8')\"\n",
              "              title=\"Convert this dataframe to an interactive table.\"\n",
              "              style=\"display:none;\">\n",
              "        \n",
              "  <svg xmlns=\"http://www.w3.org/2000/svg\" height=\"24px\"viewBox=\"0 0 24 24\"\n",
              "       width=\"24px\">\n",
              "    <path d=\"M0 0h24v24H0V0z\" fill=\"none\"/>\n",
              "    <path d=\"M18.56 5.44l.94 2.06.94-2.06 2.06-.94-2.06-.94-.94-2.06-.94 2.06-2.06.94zm-11 1L8.5 8.5l.94-2.06 2.06-.94-2.06-.94L8.5 2.5l-.94 2.06-2.06.94zm10 10l.94 2.06.94-2.06 2.06-.94-2.06-.94-.94-2.06-.94 2.06-2.06.94z\"/><path d=\"M17.41 7.96l-1.37-1.37c-.4-.4-.92-.59-1.43-.59-.52 0-1.04.2-1.43.59L10.3 9.45l-7.72 7.72c-.78.78-.78 2.05 0 2.83L4 21.41c.39.39.9.59 1.41.59.51 0 1.02-.2 1.41-.59l7.78-7.78 2.81-2.81c.8-.78.8-2.07 0-2.86zM5.41 20L4 18.59l7.72-7.72 1.47 1.35L5.41 20z\"/>\n",
              "  </svg>\n",
              "      </button>\n",
              "      \n",
              "  <style>\n",
              "    .colab-df-container {\n",
              "      display:flex;\n",
              "      flex-wrap:wrap;\n",
              "      gap: 12px;\n",
              "    }\n",
              "\n",
              "    .colab-df-convert {\n",
              "      background-color: #E8F0FE;\n",
              "      border: none;\n",
              "      border-radius: 50%;\n",
              "      cursor: pointer;\n",
              "      display: none;\n",
              "      fill: #1967D2;\n",
              "      height: 32px;\n",
              "      padding: 0 0 0 0;\n",
              "      width: 32px;\n",
              "    }\n",
              "\n",
              "    .colab-df-convert:hover {\n",
              "      background-color: #E2EBFA;\n",
              "      box-shadow: 0px 1px 2px rgba(60, 64, 67, 0.3), 0px 1px 3px 1px rgba(60, 64, 67, 0.15);\n",
              "      fill: #174EA6;\n",
              "    }\n",
              "\n",
              "    [theme=dark] .colab-df-convert {\n",
              "      background-color: #3B4455;\n",
              "      fill: #D2E3FC;\n",
              "    }\n",
              "\n",
              "    [theme=dark] .colab-df-convert:hover {\n",
              "      background-color: #434B5C;\n",
              "      box-shadow: 0px 1px 3px 1px rgba(0, 0, 0, 0.15);\n",
              "      filter: drop-shadow(0px 1px 2px rgba(0, 0, 0, 0.3));\n",
              "      fill: #FFFFFF;\n",
              "    }\n",
              "  </style>\n",
              "\n",
              "      <script>\n",
              "        const buttonEl =\n",
              "          document.querySelector('#df-116139fc-064b-4d05-bfa9-67d530c9caf8 button.colab-df-convert');\n",
              "        buttonEl.style.display =\n",
              "          google.colab.kernel.accessAllowed ? 'block' : 'none';\n",
              "\n",
              "        async function convertToInteractive(key) {\n",
              "          const element = document.querySelector('#df-116139fc-064b-4d05-bfa9-67d530c9caf8');\n",
              "          const dataTable =\n",
              "            await google.colab.kernel.invokeFunction('convertToInteractive',\n",
              "                                                     [key], {});\n",
              "          if (!dataTable) return;\n",
              "\n",
              "          const docLinkHtml = 'Like what you see? Visit the ' +\n",
              "            '<a target=\"_blank\" href=https://colab.research.google.com/notebooks/data_table.ipynb>data table notebook</a>'\n",
              "            + ' to learn more about interactive tables.';\n",
              "          element.innerHTML = '';\n",
              "          dataTable['output_type'] = 'display_data';\n",
              "          await google.colab.output.renderOutput(dataTable, element);\n",
              "          const docLink = document.createElement('div');\n",
              "          docLink.innerHTML = docLinkHtml;\n",
              "          element.appendChild(docLink);\n",
              "        }\n",
              "      </script>\n",
              "    </div>\n",
              "  </div>\n",
              "  "
            ]
          },
          "metadata": {},
          "execution_count": 22
        }
      ]
    },
    {
      "cell_type": "code",
      "execution_count": null,
      "metadata": {
        "id": "U_L20atsLCds"
      },
      "outputs": [],
      "source": [
        "def window_generator(start,end,data):\n",
        "    window=data.loc[start:end-1,['value','hour', 'days/night', 'weekend/weekday', 'daysofweek']]\n",
        "    window_label=data.loc[end,['value']]\n",
        "    return window,window_label\n",
        "\n",
        "def slice_data(dataset,length_of_window,idx):\n",
        "    \n",
        "    tmp_feature=[]\n",
        "    tmp_label=[]\n",
        "    end_idx=idx+length_of_window\n",
        "    for i in range(len(dataset)-100):\n",
        "        window_feature,window_label=window_generator(idx+i,end_idx+i,dataset)\n",
        "        tmp_feature.append(np.array(window_feature))\n",
        "        tmp_label.append(np.array(window_label))\n",
        "    features=np.array(tmp_feature)\n",
        "    labels=np.array(tmp_label)\n",
        "    return features,labels"
      ]
    },
    {
      "cell_type": "code",
      "execution_count": null,
      "metadata": {
        "id": "Ogb5gSAbLCds"
      },
      "outputs": [],
      "source": [
        "# Sliding window of size - n=100\n",
        "# for training data\n",
        "\n",
        "train,train_label=slice_data(training_data,100,0)\n",
        "test,test_label=slice_data(testing_data,100,len(training_data))"
      ]
    },
    {
      "cell_type": "code",
      "execution_count": null,
      "metadata": {
        "id": "cgA98sz3LCds",
        "outputId": "4aee41aa-9076-4ed5-9fda-04edf0fc02e2",
        "colab": {
          "base_uri": "https://localhost:8080/"
        }
      },
      "outputs": [
        {
          "output_type": "stream",
          "name": "stdout",
          "text": [
            "Model: \"sequential_1\"\n",
            "_________________________________________________________________\n",
            " Layer (type)                Output Shape              Param #   \n",
            "=================================================================\n",
            " lstm (LSTM)                 (None, 64)                17920     \n",
            "                                                                 \n",
            " dense_1 (Dense)             (None, 1)                 65        \n",
            "                                                                 \n",
            "=================================================================\n",
            "Total params: 17,985\n",
            "Trainable params: 17,985\n",
            "Non-trainable params: 0\n",
            "_________________________________________________________________\n"
          ]
        }
      ],
      "source": [
        "# Build LSTM Model\n",
        "\n",
        "model = keras.Sequential()\n",
        "model.add(layers.LSTM(64,input_shape=(100,5)))\n",
        "model.add(layers.Dense(1))\n",
        "model.summary()"
      ]
    },
    {
      "cell_type": "code",
      "source": [
        "# Visualize the model\n",
        "\n",
        "tf.keras.utils.plot_model(\n",
        "    model, to_file='model2.png', show_shapes=False, \n",
        "    show_layer_names=True, rankdir='TB')"
      ],
      "metadata": {
        "colab": {
          "base_uri": "https://localhost:8080/",
          "height": 272
        },
        "id": "xzvOl5Oc4DHH",
        "outputId": "1dda938b-f9d4-4ff4-8a4d-ec18fe599783"
      },
      "execution_count": null,
      "outputs": [
        {
          "output_type": "execute_result",
          "data": {
            "text/plain": [
              "<IPython.core.display.Image object>"
            ],
            "image/png": "[encoded data removed]"
          },
          "metadata": {},
          "execution_count": 26
        }
      ]
    },
    {
      "cell_type": "code",
      "execution_count": null,
      "metadata": {
        "id": "cKcfFGSELCdt",
        "outputId": "f32363d2-9761-44b3-8a62-ec9840ac98d6",
        "colab": {
          "base_uri": "https://localhost:8080/"
        }
      },
      "outputs": [
        {
          "output_type": "stream",
          "name": "stdout",
          "text": [
            "Epoch 1/10\n",
            "179/179 - 6s - loss: 0.0106 - mean_absolute_error: 0.0635 - val_loss: 0.0038 - val_mean_absolute_error: 0.0482 - 6s/epoch - 35ms/step\n",
            "Epoch 2/10\n",
            "179/179 - 4s - loss: 0.0015 - mean_absolute_error: 0.0307 - val_loss: 0.0041 - val_mean_absolute_error: 0.0511 - 4s/epoch - 21ms/step\n",
            "Epoch 3/10\n",
            "179/179 - 4s - loss: 0.0013 - mean_absolute_error: 0.0283 - val_loss: 0.0029 - val_mean_absolute_error: 0.0421 - 4s/epoch - 21ms/step\n",
            "Epoch 4/10\n",
            "179/179 - 4s - loss: 0.0011 - mean_absolute_error: 0.0259 - val_loss: 0.0022 - val_mean_absolute_error: 0.0368 - 4s/epoch - 21ms/step\n",
            "Epoch 5/10\n",
            "179/179 - 4s - loss: 0.0010 - mean_absolute_error: 0.0252 - val_loss: 0.0019 - val_mean_absolute_error: 0.0339 - 4s/epoch - 22ms/step\n",
            "Epoch 6/10\n",
            "179/179 - 4s - loss: 9.5447e-04 - mean_absolute_error: 0.0245 - val_loss: 0.0018 - val_mean_absolute_error: 0.0324 - 4s/epoch - 21ms/step\n",
            "Epoch 7/10\n",
            "179/179 - 4s - loss: 9.1344e-04 - mean_absolute_error: 0.0239 - val_loss: 0.0016 - val_mean_absolute_error: 0.0307 - 4s/epoch - 21ms/step\n",
            "Epoch 8/10\n",
            "179/179 - 4s - loss: 8.7300e-04 - mean_absolute_error: 0.0235 - val_loss: 0.0016 - val_mean_absolute_error: 0.0305 - 4s/epoch - 21ms/step\n",
            "Epoch 9/10\n",
            "179/179 - 4s - loss: 8.7001e-04 - mean_absolute_error: 0.0235 - val_loss: 0.0015 - val_mean_absolute_error: 0.0296 - 4s/epoch - 21ms/step\n",
            "Epoch 10/10\n",
            "179/179 - 4s - loss: 8.6705e-04 - mean_absolute_error: 0.0235 - val_loss: 0.0015 - val_mean_absolute_error: 0.0301 - 4s/epoch - 21ms/step\n"
          ]
        }
      ],
      "source": [
        "model.compile (loss=keras.losses.MeanSquaredError(),\n",
        "               optimizer=keras.optimizers.Adam(),\n",
        "               metrics=[keras.metrics.MeanAbsoluteError()])\n",
        "\n",
        "history = model.fit(train,train_label,validation_data=(test,test_label),verbose=2,epochs=10)     \n",
        "        "
      ]
    },
    {
      "cell_type": "code",
      "execution_count": null,
      "metadata": {
        "id": "Sp_1I8OHLCdt",
        "outputId": "14e2bb15-8ab7-4696-f6b1-2b01d15ac6cb",
        "colab": {
          "base_uri": "https://localhost:8080/",
          "height": 279
        }
      },
      "outputs": [
        {
          "output_type": "display_data",
          "data": {
            "text/plain": [
              "<Figure size 432x288 with 1 Axes>"
            ],
            "image/png": "[encoded data removed]"
          },
          "metadata": {
            "needs_background": "light"
          }
        }
      ],
      "source": [
        "# TODO: visualize the training and testing loss curves of your optimal model\n",
        "import matplotlib.pyplot as plt\n",
        "\n",
        "plt.plot(history.history['loss'], label='Train_loss')\n",
        "plt.plot(history.history['val_loss'], label='validation_loss')\n",
        "plt.xlabel('Epoch')\n",
        "plt.ylabel('Loss')\n",
        "\n",
        "plt.legend(loc='upper right')\n",
        "plt.show()\n"
      ]
    },
    {
      "cell_type": "code",
      "source": [
        "performance=model.evaluate(test,test_label,verbose=0)"
      ],
      "metadata": {
        "id": "U4vvDMNI6Q9f"
      },
      "execution_count": null,
      "outputs": []
    },
    {
      "cell_type": "code",
      "source": [
        "performance"
      ],
      "metadata": {
        "colab": {
          "base_uri": "https://localhost:8080/"
        },
        "id": "5rW5z8xA-ZIs",
        "outputId": "2b4be93e-fc8b-4667-fffa-b60e081c4e49"
      },
      "execution_count": null,
      "outputs": [
        {
          "output_type": "execute_result",
          "data": {
            "text/plain": [
              "[0.0014808264095336199, 0.030073484405875206]"
            ]
          },
          "metadata": {},
          "execution_count": 30
        }
      ]
    },
    {
      "cell_type": "code",
      "execution_count": null,
      "metadata": {
        "id": "HcJSSYWxLCdt"
      },
      "outputs": [],
      "source": [
        "predictions=model.predict(test)\n"
      ]
    },
    {
      "cell_type": "code",
      "execution_count": null,
      "metadata": {
        "id": "x2ejRbUjLCdt",
        "outputId": "90cdd6bf-f385-45cf-a1c3-64dfe6bba263",
        "colab": {
          "base_uri": "https://localhost:8080/"
        }
      },
      "outputs": [
        {
          "output_type": "execute_result",
          "data": {
            "text/plain": [
              "array([[0.39258412],\n",
              "       [0.3713114 ],\n",
              "       [0.35834137],\n",
              "       ...,\n",
              "       [0.48931104],\n",
              "       [0.5121335 ],\n",
              "       [0.52369875]], dtype=float32)"
            ]
          },
          "metadata": {},
          "execution_count": 32
        }
      ],
      "source": [
        "predictions"
      ]
    },
    {
      "cell_type": "code",
      "execution_count": null,
      "metadata": {
        "id": "FcQYIKQjLCdt",
        "outputId": "809d6cf3-3da8-42eb-a1f0-e57aa1b12b28",
        "colab": {
          "base_uri": "https://localhost:8080/",
          "height": 350
        }
      },
      "outputs": [
        {
          "output_type": "display_data",
          "data": {
            "text/plain": [
              "<Figure size 720x360 with 1 Axes>"
            ],
            "image/png": "[encoded data removed]"
          },
          "metadata": {
            "needs_background": "light"
          }
        }
      ],
      "source": [
        "#Plotting the data \n",
        "plt.figure(figsize=(10,5))\n",
        "test_label=np.squeeze(test_label)\n",
        "predictions=np.squeeze(predictions)\n",
        "plt.plot(predictions, label='predicted values')\n",
        "plt.plot(test_label,label='actual test label values')\n",
        "plt.xlabel('x')\n",
        "plt.title('Visualize all the data')\n",
        "plt.legend()\n",
        "plt.show()"
      ]
    },
    {
      "cell_type": "code",
      "execution_count": null,
      "metadata": {
        "id": "40Z8Yc-DLCdu"
      },
      "outputs": [],
      "source": [
        "Anamoly=test_label-predictions\n",
        "anamolies=pd.core.series.Series(Anamoly)"
      ]
    },
    {
      "cell_type": "code",
      "source": [
        "threshold=max(Anamoly)*.70\n",
        "threshold"
      ],
      "metadata": {
        "colab": {
          "base_uri": "https://localhost:8080/"
        },
        "id": "PkO8FS_v-4Ns",
        "outputId": "c478a7a5-611a-4675-b599-fa8e7c2ab560"
      },
      "execution_count": null,
      "outputs": [
        {
          "output_type": "execute_result",
          "data": {
            "text/plain": [
              "0.09013081332265609"
            ]
          },
          "metadata": {},
          "execution_count": 71
        }
      ]
    },
    {
      "cell_type": "code",
      "source": [
        "# Visualising the Anamolies from the predicted values\n",
        "\n",
        "anamoly_values=[]\n",
        "predicted_value=[]\n",
        "idx=[]\n",
        "for i in range(len(Anamoly)):\n",
        "  if Anamoly[i]>=threshold:\n",
        "    idx.append(i)\n",
        "    anamoly_values.append(test_label[i])\n",
        "    predicted_value.append(predictions[i])\n",
        "\n",
        "plt.plot(anamoly_values, label='anamoly_values in test data')\n",
        "plt.plot(predicted_value,label='predicted values')\n",
        "plt.title('Visualizing Anamolies')\n",
        "plt.legend()\n",
        "plt.show()\n",
        "\n"
      ],
      "metadata": {
        "colab": {
          "base_uri": "https://localhost:8080/",
          "height": 281
        },
        "id": "uLYZlD9o_rWu",
        "outputId": "fd2c258d-eb8b-427d-fa3e-cf0463400a0a"
      },
      "execution_count": null,
      "outputs": [
        {
          "output_type": "display_data",
          "data": {
            "text/plain": [
              "<Figure size 432x288 with 1 Axes>"
            ],
            "image/png": "[encoded data removed]"
          },
          "metadata": {
            "needs_background": "light"
          }
        }
      ]
    },
    {
      "cell_type": "code",
      "source": [
        "plt.plot(test_label)\n",
        "plt.scatter(idx,test_label[idx],color='red')"
      ],
      "metadata": {
        "colab": {
          "base_uri": "https://localhost:8080/",
          "height": 282
        },
        "id": "Q5eTotmyDWc3",
        "outputId": "86e6e3e9-50b0-4bbf-96f5-54cbf92e064f"
      },
      "execution_count": 91,
      "outputs": [
        {
          "output_type": "execute_result",
          "data": {
            "text/plain": [
              "<matplotlib.collections.PathCollection at 0x7f27668f7890>"
            ]
          },
          "metadata": {},
          "execution_count": 91
        },
        {
          "output_type": "display_data",
          "data": {
            "text/plain": [
              "<Figure size 432x288 with 1 Axes>"
            ],
            "image/png": "[encoded data removed]"
          },
          "metadata": {
            "needs_background": "light"
          }
        }
      ]
    }
  ],
  "metadata": {
    "accelerator": "GPU",
    "colab": {
      "collapsed_sections": [],
      "name": "AuE8930_Mini-Project_4.ipynb",
      "provenance": []
    },
    "kernelspec": {
      "display_name": "tf-gpu",
      "language": "python",
      "name": "tf-gpu"
    },
    "language_info": {
      "codemirror_mode": {
        "name": "ipython",
        "version": 3
      },
      "file_extension": ".py",
      "mimetype": "text/x-python",
      "name": "python",
      "nbconvert_exporter": "python",
      "pygments_lexer": "ipython3",
      "version": "3.6.4"
    }
  },
  "nbformat": 4,
  "nbformat_minor": 0
}